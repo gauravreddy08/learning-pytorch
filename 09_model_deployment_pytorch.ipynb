{
  "nbformat": 4,
  "nbformat_minor": 0,
  "metadata": {
    "colab": {
      "provenance": [],
      "authorship_tag": "ABX9TyOWV4xCBWKPilHpqrX4RXh1",
      "include_colab_link": true
    },
    "kernelspec": {
      "name": "python3",
      "display_name": "Python 3"
    },
    "language_info": {
      "name": "python"
    },
    "accelerator": "GPU",
    "gpuClass": "standard",
    "widgets": {
      "application/vnd.jupyter.widget-state+json": {
        "a80a43a790e245c3a016816dde945812": {
          "model_module": "@jupyter-widgets/controls",
          "model_name": "HBoxModel",
          "model_module_version": "1.5.0",
          "state": {
            "_dom_classes": [],
            "_model_module": "@jupyter-widgets/controls",
            "_model_module_version": "1.5.0",
            "_model_name": "HBoxModel",
            "_view_count": null,
            "_view_module": "@jupyter-widgets/controls",
            "_view_module_version": "1.5.0",
            "_view_name": "HBoxView",
            "box_style": "",
            "children": [
              "IPY_MODEL_a6dad081a34d4359ba0387772217e2f2",
              "IPY_MODEL_809ae826f1f544129b78ec141c559e63",
              "IPY_MODEL_d5923449daff40498522d18b1b0c2d5f"
            ],
            "layout": "IPY_MODEL_8cc9695e864643728dc25af870415fac"
          }
        },
        "a6dad081a34d4359ba0387772217e2f2": {
          "model_module": "@jupyter-widgets/controls",
          "model_name": "HTMLModel",
          "model_module_version": "1.5.0",
          "state": {
            "_dom_classes": [],
            "_model_module": "@jupyter-widgets/controls",
            "_model_module_version": "1.5.0",
            "_model_name": "HTMLModel",
            "_view_count": null,
            "_view_module": "@jupyter-widgets/controls",
            "_view_module_version": "1.5.0",
            "_view_name": "HTMLView",
            "description": "",
            "description_tooltip": null,
            "layout": "IPY_MODEL_434a4bc12eb54828a71fe11774cced9f",
            "placeholder": "​",
            "style": "IPY_MODEL_793fc60dd9ad4c1e996921ac81d72a72",
            "value": "100%"
          }
        },
        "809ae826f1f544129b78ec141c559e63": {
          "model_module": "@jupyter-widgets/controls",
          "model_name": "FloatProgressModel",
          "model_module_version": "1.5.0",
          "state": {
            "_dom_classes": [],
            "_model_module": "@jupyter-widgets/controls",
            "_model_module_version": "1.5.0",
            "_model_name": "FloatProgressModel",
            "_view_count": null,
            "_view_module": "@jupyter-widgets/controls",
            "_view_module_version": "1.5.0",
            "_view_name": "ProgressView",
            "bar_style": "success",
            "description": "",
            "description_tooltip": null,
            "layout": "IPY_MODEL_09f904205ddd43dea14cce501ad00d63",
            "max": 346328529,
            "min": 0,
            "orientation": "horizontal",
            "style": "IPY_MODEL_1e224b73550845ef8347972c84208007",
            "value": 346328529
          }
        },
        "d5923449daff40498522d18b1b0c2d5f": {
          "model_module": "@jupyter-widgets/controls",
          "model_name": "HTMLModel",
          "model_module_version": "1.5.0",
          "state": {
            "_dom_classes": [],
            "_model_module": "@jupyter-widgets/controls",
            "_model_module_version": "1.5.0",
            "_model_name": "HTMLModel",
            "_view_count": null,
            "_view_module": "@jupyter-widgets/controls",
            "_view_module_version": "1.5.0",
            "_view_name": "HTMLView",
            "description": "",
            "description_tooltip": null,
            "layout": "IPY_MODEL_8eece61122dd497bafdeba4ff3f634d9",
            "placeholder": "​",
            "style": "IPY_MODEL_d51ff238998b428ab4e01a1764206800",
            "value": " 330M/330M [00:02&lt;00:00, 116MB/s]"
          }
        },
        "8cc9695e864643728dc25af870415fac": {
          "model_module": "@jupyter-widgets/base",
          "model_name": "LayoutModel",
          "model_module_version": "1.2.0",
          "state": {
            "_model_module": "@jupyter-widgets/base",
            "_model_module_version": "1.2.0",
            "_model_name": "LayoutModel",
            "_view_count": null,
            "_view_module": "@jupyter-widgets/base",
            "_view_module_version": "1.2.0",
            "_view_name": "LayoutView",
            "align_content": null,
            "align_items": null,
            "align_self": null,
            "border": null,
            "bottom": null,
            "display": null,
            "flex": null,
            "flex_flow": null,
            "grid_area": null,
            "grid_auto_columns": null,
            "grid_auto_flow": null,
            "grid_auto_rows": null,
            "grid_column": null,
            "grid_gap": null,
            "grid_row": null,
            "grid_template_areas": null,
            "grid_template_columns": null,
            "grid_template_rows": null,
            "height": null,
            "justify_content": null,
            "justify_items": null,
            "left": null,
            "margin": null,
            "max_height": null,
            "max_width": null,
            "min_height": null,
            "min_width": null,
            "object_fit": null,
            "object_position": null,
            "order": null,
            "overflow": null,
            "overflow_x": null,
            "overflow_y": null,
            "padding": null,
            "right": null,
            "top": null,
            "visibility": null,
            "width": null
          }
        },
        "434a4bc12eb54828a71fe11774cced9f": {
          "model_module": "@jupyter-widgets/base",
          "model_name": "LayoutModel",
          "model_module_version": "1.2.0",
          "state": {
            "_model_module": "@jupyter-widgets/base",
            "_model_module_version": "1.2.0",
            "_model_name": "LayoutModel",
            "_view_count": null,
            "_view_module": "@jupyter-widgets/base",
            "_view_module_version": "1.2.0",
            "_view_name": "LayoutView",
            "align_content": null,
            "align_items": null,
            "align_self": null,
            "border": null,
            "bottom": null,
            "display": null,
            "flex": null,
            "flex_flow": null,
            "grid_area": null,
            "grid_auto_columns": null,
            "grid_auto_flow": null,
            "grid_auto_rows": null,
            "grid_column": null,
            "grid_gap": null,
            "grid_row": null,
            "grid_template_areas": null,
            "grid_template_columns": null,
            "grid_template_rows": null,
            "height": null,
            "justify_content": null,
            "justify_items": null,
            "left": null,
            "margin": null,
            "max_height": null,
            "max_width": null,
            "min_height": null,
            "min_width": null,
            "object_fit": null,
            "object_position": null,
            "order": null,
            "overflow": null,
            "overflow_x": null,
            "overflow_y": null,
            "padding": null,
            "right": null,
            "top": null,
            "visibility": null,
            "width": null
          }
        },
        "793fc60dd9ad4c1e996921ac81d72a72": {
          "model_module": "@jupyter-widgets/controls",
          "model_name": "DescriptionStyleModel",
          "model_module_version": "1.5.0",
          "state": {
            "_model_module": "@jupyter-widgets/controls",
            "_model_module_version": "1.5.0",
            "_model_name": "DescriptionStyleModel",
            "_view_count": null,
            "_view_module": "@jupyter-widgets/base",
            "_view_module_version": "1.2.0",
            "_view_name": "StyleView",
            "description_width": ""
          }
        },
        "09f904205ddd43dea14cce501ad00d63": {
          "model_module": "@jupyter-widgets/base",
          "model_name": "LayoutModel",
          "model_module_version": "1.2.0",
          "state": {
            "_model_module": "@jupyter-widgets/base",
            "_model_module_version": "1.2.0",
            "_model_name": "LayoutModel",
            "_view_count": null,
            "_view_module": "@jupyter-widgets/base",
            "_view_module_version": "1.2.0",
            "_view_name": "LayoutView",
            "align_content": null,
            "align_items": null,
            "align_self": null,
            "border": null,
            "bottom": null,
            "display": null,
            "flex": null,
            "flex_flow": null,
            "grid_area": null,
            "grid_auto_columns": null,
            "grid_auto_flow": null,
            "grid_auto_rows": null,
            "grid_column": null,
            "grid_gap": null,
            "grid_row": null,
            "grid_template_areas": null,
            "grid_template_columns": null,
            "grid_template_rows": null,
            "height": null,
            "justify_content": null,
            "justify_items": null,
            "left": null,
            "margin": null,
            "max_height": null,
            "max_width": null,
            "min_height": null,
            "min_width": null,
            "object_fit": null,
            "object_position": null,
            "order": null,
            "overflow": null,
            "overflow_x": null,
            "overflow_y": null,
            "padding": null,
            "right": null,
            "top": null,
            "visibility": null,
            "width": null
          }
        },
        "1e224b73550845ef8347972c84208007": {
          "model_module": "@jupyter-widgets/controls",
          "model_name": "ProgressStyleModel",
          "model_module_version": "1.5.0",
          "state": {
            "_model_module": "@jupyter-widgets/controls",
            "_model_module_version": "1.5.0",
            "_model_name": "ProgressStyleModel",
            "_view_count": null,
            "_view_module": "@jupyter-widgets/base",
            "_view_module_version": "1.2.0",
            "_view_name": "StyleView",
            "bar_color": null,
            "description_width": ""
          }
        },
        "8eece61122dd497bafdeba4ff3f634d9": {
          "model_module": "@jupyter-widgets/base",
          "model_name": "LayoutModel",
          "model_module_version": "1.2.0",
          "state": {
            "_model_module": "@jupyter-widgets/base",
            "_model_module_version": "1.2.0",
            "_model_name": "LayoutModel",
            "_view_count": null,
            "_view_module": "@jupyter-widgets/base",
            "_view_module_version": "1.2.0",
            "_view_name": "LayoutView",
            "align_content": null,
            "align_items": null,
            "align_self": null,
            "border": null,
            "bottom": null,
            "display": null,
            "flex": null,
            "flex_flow": null,
            "grid_area": null,
            "grid_auto_columns": null,
            "grid_auto_flow": null,
            "grid_auto_rows": null,
            "grid_column": null,
            "grid_gap": null,
            "grid_row": null,
            "grid_template_areas": null,
            "grid_template_columns": null,
            "grid_template_rows": null,
            "height": null,
            "justify_content": null,
            "justify_items": null,
            "left": null,
            "margin": null,
            "max_height": null,
            "max_width": null,
            "min_height": null,
            "min_width": null,
            "object_fit": null,
            "object_position": null,
            "order": null,
            "overflow": null,
            "overflow_x": null,
            "overflow_y": null,
            "padding": null,
            "right": null,
            "top": null,
            "visibility": null,
            "width": null
          }
        },
        "d51ff238998b428ab4e01a1764206800": {
          "model_module": "@jupyter-widgets/controls",
          "model_name": "DescriptionStyleModel",
          "model_module_version": "1.5.0",
          "state": {
            "_model_module": "@jupyter-widgets/controls",
            "_model_module_version": "1.5.0",
            "_model_name": "DescriptionStyleModel",
            "_view_count": null,
            "_view_module": "@jupyter-widgets/base",
            "_view_module_version": "1.2.0",
            "_view_name": "StyleView",
            "description_width": ""
          }
        },
        "ac7154cfc31a4a13bfd2ea95dcee641e": {
          "model_module": "@jupyter-widgets/controls",
          "model_name": "HBoxModel",
          "model_module_version": "1.5.0",
          "state": {
            "_dom_classes": [],
            "_model_module": "@jupyter-widgets/controls",
            "_model_module_version": "1.5.0",
            "_model_name": "HBoxModel",
            "_view_count": null,
            "_view_module": "@jupyter-widgets/controls",
            "_view_module_version": "1.5.0",
            "_view_name": "HBoxView",
            "box_style": "",
            "children": [
              "IPY_MODEL_7aa1e321dc1f46e483d4eacb03b748c0",
              "IPY_MODEL_3f711996dd3c4d929d88a44105f30445",
              "IPY_MODEL_00e51b99e08347849664578d4480ec76"
            ],
            "layout": "IPY_MODEL_1de7d10995be473da54dbc48ee5d8b8f"
          }
        },
        "7aa1e321dc1f46e483d4eacb03b748c0": {
          "model_module": "@jupyter-widgets/controls",
          "model_name": "HTMLModel",
          "model_module_version": "1.5.0",
          "state": {
            "_dom_classes": [],
            "_model_module": "@jupyter-widgets/controls",
            "_model_module_version": "1.5.0",
            "_model_name": "HTMLModel",
            "_view_count": null,
            "_view_module": "@jupyter-widgets/controls",
            "_view_module_version": "1.5.0",
            "_view_name": "HTMLView",
            "description": "",
            "description_tooltip": null,
            "layout": "IPY_MODEL_ea82e8ff0d254a6b930c12d95dc5e5dc",
            "placeholder": "​",
            "style": "IPY_MODEL_6a2ae70ade18478ea7d2bc5fdc29e78b",
            "value": "100%"
          }
        },
        "3f711996dd3c4d929d88a44105f30445": {
          "model_module": "@jupyter-widgets/controls",
          "model_name": "FloatProgressModel",
          "model_module_version": "1.5.0",
          "state": {
            "_dom_classes": [],
            "_model_module": "@jupyter-widgets/controls",
            "_model_module_version": "1.5.0",
            "_model_name": "FloatProgressModel",
            "_view_count": null,
            "_view_module": "@jupyter-widgets/controls",
            "_view_module_version": "1.5.0",
            "_view_name": "ProgressView",
            "bar_style": "success",
            "description": "",
            "description_tooltip": null,
            "layout": "IPY_MODEL_fa8ad1e936a44f2faffb6923ea98fcf4",
            "max": 36882185,
            "min": 0,
            "orientation": "horizontal",
            "style": "IPY_MODEL_888b3194f4e14b678d6ee05184361ca2",
            "value": 36882185
          }
        },
        "00e51b99e08347849664578d4480ec76": {
          "model_module": "@jupyter-widgets/controls",
          "model_name": "HTMLModel",
          "model_module_version": "1.5.0",
          "state": {
            "_dom_classes": [],
            "_model_module": "@jupyter-widgets/controls",
            "_model_module_version": "1.5.0",
            "_model_name": "HTMLModel",
            "_view_count": null,
            "_view_module": "@jupyter-widgets/controls",
            "_view_module_version": "1.5.0",
            "_view_name": "HTMLView",
            "description": "",
            "description_tooltip": null,
            "layout": "IPY_MODEL_64d17c2df77844a4a2b42100f5b18329",
            "placeholder": "​",
            "style": "IPY_MODEL_b32cf42d4f9b44f9af1e7d0b549a13e0",
            "value": " 35.2M/35.2M [00:00&lt;00:00, 71.0MB/s]"
          }
        },
        "1de7d10995be473da54dbc48ee5d8b8f": {
          "model_module": "@jupyter-widgets/base",
          "model_name": "LayoutModel",
          "model_module_version": "1.2.0",
          "state": {
            "_model_module": "@jupyter-widgets/base",
            "_model_module_version": "1.2.0",
            "_model_name": "LayoutModel",
            "_view_count": null,
            "_view_module": "@jupyter-widgets/base",
            "_view_module_version": "1.2.0",
            "_view_name": "LayoutView",
            "align_content": null,
            "align_items": null,
            "align_self": null,
            "border": null,
            "bottom": null,
            "display": null,
            "flex": null,
            "flex_flow": null,
            "grid_area": null,
            "grid_auto_columns": null,
            "grid_auto_flow": null,
            "grid_auto_rows": null,
            "grid_column": null,
            "grid_gap": null,
            "grid_row": null,
            "grid_template_areas": null,
            "grid_template_columns": null,
            "grid_template_rows": null,
            "height": null,
            "justify_content": null,
            "justify_items": null,
            "left": null,
            "margin": null,
            "max_height": null,
            "max_width": null,
            "min_height": null,
            "min_width": null,
            "object_fit": null,
            "object_position": null,
            "order": null,
            "overflow": null,
            "overflow_x": null,
            "overflow_y": null,
            "padding": null,
            "right": null,
            "top": null,
            "visibility": null,
            "width": null
          }
        },
        "ea82e8ff0d254a6b930c12d95dc5e5dc": {
          "model_module": "@jupyter-widgets/base",
          "model_name": "LayoutModel",
          "model_module_version": "1.2.0",
          "state": {
            "_model_module": "@jupyter-widgets/base",
            "_model_module_version": "1.2.0",
            "_model_name": "LayoutModel",
            "_view_count": null,
            "_view_module": "@jupyter-widgets/base",
            "_view_module_version": "1.2.0",
            "_view_name": "LayoutView",
            "align_content": null,
            "align_items": null,
            "align_self": null,
            "border": null,
            "bottom": null,
            "display": null,
            "flex": null,
            "flex_flow": null,
            "grid_area": null,
            "grid_auto_columns": null,
            "grid_auto_flow": null,
            "grid_auto_rows": null,
            "grid_column": null,
            "grid_gap": null,
            "grid_row": null,
            "grid_template_areas": null,
            "grid_template_columns": null,
            "grid_template_rows": null,
            "height": null,
            "justify_content": null,
            "justify_items": null,
            "left": null,
            "margin": null,
            "max_height": null,
            "max_width": null,
            "min_height": null,
            "min_width": null,
            "object_fit": null,
            "object_position": null,
            "order": null,
            "overflow": null,
            "overflow_x": null,
            "overflow_y": null,
            "padding": null,
            "right": null,
            "top": null,
            "visibility": null,
            "width": null
          }
        },
        "6a2ae70ade18478ea7d2bc5fdc29e78b": {
          "model_module": "@jupyter-widgets/controls",
          "model_name": "DescriptionStyleModel",
          "model_module_version": "1.5.0",
          "state": {
            "_model_module": "@jupyter-widgets/controls",
            "_model_module_version": "1.5.0",
            "_model_name": "DescriptionStyleModel",
            "_view_count": null,
            "_view_module": "@jupyter-widgets/base",
            "_view_module_version": "1.2.0",
            "_view_name": "StyleView",
            "description_width": ""
          }
        },
        "fa8ad1e936a44f2faffb6923ea98fcf4": {
          "model_module": "@jupyter-widgets/base",
          "model_name": "LayoutModel",
          "model_module_version": "1.2.0",
          "state": {
            "_model_module": "@jupyter-widgets/base",
            "_model_module_version": "1.2.0",
            "_model_name": "LayoutModel",
            "_view_count": null,
            "_view_module": "@jupyter-widgets/base",
            "_view_module_version": "1.2.0",
            "_view_name": "LayoutView",
            "align_content": null,
            "align_items": null,
            "align_self": null,
            "border": null,
            "bottom": null,
            "display": null,
            "flex": null,
            "flex_flow": null,
            "grid_area": null,
            "grid_auto_columns": null,
            "grid_auto_flow": null,
            "grid_auto_rows": null,
            "grid_column": null,
            "grid_gap": null,
            "grid_row": null,
            "grid_template_areas": null,
            "grid_template_columns": null,
            "grid_template_rows": null,
            "height": null,
            "justify_content": null,
            "justify_items": null,
            "left": null,
            "margin": null,
            "max_height": null,
            "max_width": null,
            "min_height": null,
            "min_width": null,
            "object_fit": null,
            "object_position": null,
            "order": null,
            "overflow": null,
            "overflow_x": null,
            "overflow_y": null,
            "padding": null,
            "right": null,
            "top": null,
            "visibility": null,
            "width": null
          }
        },
        "888b3194f4e14b678d6ee05184361ca2": {
          "model_module": "@jupyter-widgets/controls",
          "model_name": "ProgressStyleModel",
          "model_module_version": "1.5.0",
          "state": {
            "_model_module": "@jupyter-widgets/controls",
            "_model_module_version": "1.5.0",
            "_model_name": "ProgressStyleModel",
            "_view_count": null,
            "_view_module": "@jupyter-widgets/base",
            "_view_module_version": "1.2.0",
            "_view_name": "StyleView",
            "bar_color": null,
            "description_width": ""
          }
        },
        "64d17c2df77844a4a2b42100f5b18329": {
          "model_module": "@jupyter-widgets/base",
          "model_name": "LayoutModel",
          "model_module_version": "1.2.0",
          "state": {
            "_model_module": "@jupyter-widgets/base",
            "_model_module_version": "1.2.0",
            "_model_name": "LayoutModel",
            "_view_count": null,
            "_view_module": "@jupyter-widgets/base",
            "_view_module_version": "1.2.0",
            "_view_name": "LayoutView",
            "align_content": null,
            "align_items": null,
            "align_self": null,
            "border": null,
            "bottom": null,
            "display": null,
            "flex": null,
            "flex_flow": null,
            "grid_area": null,
            "grid_auto_columns": null,
            "grid_auto_flow": null,
            "grid_auto_rows": null,
            "grid_column": null,
            "grid_gap": null,
            "grid_row": null,
            "grid_template_areas": null,
            "grid_template_columns": null,
            "grid_template_rows": null,
            "height": null,
            "justify_content": null,
            "justify_items": null,
            "left": null,
            "margin": null,
            "max_height": null,
            "max_width": null,
            "min_height": null,
            "min_width": null,
            "object_fit": null,
            "object_position": null,
            "order": null,
            "overflow": null,
            "overflow_x": null,
            "overflow_y": null,
            "padding": null,
            "right": null,
            "top": null,
            "visibility": null,
            "width": null
          }
        },
        "b32cf42d4f9b44f9af1e7d0b549a13e0": {
          "model_module": "@jupyter-widgets/controls",
          "model_name": "DescriptionStyleModel",
          "model_module_version": "1.5.0",
          "state": {
            "_model_module": "@jupyter-widgets/controls",
            "_model_module_version": "1.5.0",
            "_model_name": "DescriptionStyleModel",
            "_view_count": null,
            "_view_module": "@jupyter-widgets/base",
            "_view_module_version": "1.2.0",
            "_view_name": "StyleView",
            "description_width": ""
          }
        }
      }
    }
  },
  "cells": [
    {
      "cell_type": "markdown",
      "metadata": {
        "id": "view-in-github",
        "colab_type": "text"
      },
      "source": [
        "<a href=\"https://colab.research.google.com/github/gauravreddy08/learning-pytorch/blob/main/09_model_deployment_pytorch.ipynb\" target=\"_parent\"><img src=\"https://colab.research.google.com/assets/colab-badge.svg\" alt=\"Open In Colab\"/></a>"
      ]
    },
    {
      "cell_type": "markdown",
      "source": [
        "# 09 | Model Deployment with **PyTorch**\n",
        "\n",
        "https://www.learnpytorch.io/09_pytorch_model_deployment/"
      ],
      "metadata": {
        "id": "qiFchdzY3WBM"
      }
    },
    {
      "cell_type": "code",
      "source": [
        "!pip install -q wandb torchinfo gradio"
      ],
      "metadata": {
        "colab": {
          "base_uri": "https://localhost:8080/"
        },
        "id": "nhNkuJpu3VoO",
        "outputId": "f4f87a01-1de4-42fa-c953-a49d2b4693db"
      },
      "execution_count": null,
      "outputs": [
        {
          "output_type": "stream",
          "name": "stdout",
          "text": [
            "\u001b[?25l     \u001b[90m━━━━━━━━━━━━━━━━━━━━━━━━━━━━━━━━━━━━━━━━\u001b[0m \u001b[32m0.0/2.0 MB\u001b[0m \u001b[31m?\u001b[0m eta \u001b[36m-:--:--\u001b[0m\r\u001b[2K     \u001b[90m━━━━━━━━━━━━━━━━━━━━━━━━━━━━━━━━━━━━━━━━\u001b[0m \u001b[32m2.0/2.0 MB\u001b[0m \u001b[31m59.3 MB/s\u001b[0m eta \u001b[36m0:00:00\u001b[0m\n",
            "\u001b[?25h  Preparing metadata (setup.py) ... \u001b[?25l\u001b[?25hdone\n",
            "\u001b[2K     \u001b[90m━━━━━━━━━━━━━━━━━━━━━━━━━━━━━━━━━━━━━━\u001b[0m \u001b[32m184.3/184.3 KB\u001b[0m \u001b[31m18.6 MB/s\u001b[0m eta \u001b[36m0:00:00\u001b[0m\n",
            "\u001b[2K     \u001b[90m━━━━━━━━━━━━━━━━━━━━━━━━━━━━━━━━━━━━━━\u001b[0m \u001b[32m184.3/184.3 KB\u001b[0m \u001b[31m23.7 MB/s\u001b[0m eta \u001b[36m0:00:00\u001b[0m\n",
            "\u001b[2K     \u001b[90m━━━━━━━━━━━━━━━━━━━━━━━━━━━━━━━━━━━━━━━━\u001b[0m \u001b[32m62.7/62.7 KB\u001b[0m \u001b[31m8.6 MB/s\u001b[0m eta \u001b[36m0:00:00\u001b[0m\n",
            "\u001b[?25h  Building wheel for pathtools (setup.py) ... \u001b[?25l\u001b[?25hdone\n"
          ]
        }
      ]
    },
    {
      "cell_type": "code",
      "execution_count": null,
      "metadata": {
        "colab": {
          "base_uri": "https://localhost:8080/"
        },
        "id": "cGTkBxpX3SXV",
        "outputId": "9886a2d4-59c4-4d60-9866-979f5d07f9f7"
      },
      "outputs": [
        {
          "output_type": "stream",
          "name": "stdout",
          "text": [
            "[INFO] Device: \"cuda\"\n"
          ]
        }
      ],
      "source": [
        "import pandas as pd\n",
        "import numpy as np\n",
        "import matplotlib.pyplot as plt\n",
        "\n",
        "import wandb\n",
        "\n",
        "import torch\n",
        "from torch import nn\n",
        "\n",
        "device = 'cuda' if torch.cuda.is_available() else 'cpu'\n",
        "print(f\"[INFO] Device: \\\"{device}\\\"\")\n",
        "\n",
        "def set_seed(seed: int = 42):\n",
        "  torch.manual_seed(seed)\n",
        "  torch.cuda.manual_seed(seed)"
      ]
    },
    {
      "cell_type": "code",
      "source": [
        "wandb_run = wandb.init(project=\"learning-pytorch\")"
      ],
      "metadata": {
        "id": "m8IaTnJk3xXm",
        "colab": {
          "base_uri": "https://localhost:8080/",
          "height": 177
        },
        "outputId": "b9f23d68-f22a-4d27-96f0-2c8d5679bb05"
      },
      "execution_count": null,
      "outputs": [
        {
          "output_type": "stream",
          "name": "stderr",
          "text": [
            "ERROR:wandb.jupyter:Failed to detect the name of this notebook, you can set it manually with the WANDB_NOTEBOOK_NAME environment variable to enable code saving.\n"
          ]
        },
        {
          "output_type": "display_data",
          "data": {
            "text/plain": [
              "<IPython.core.display.Javascript object>"
            ],
            "application/javascript": [
              "\n",
              "        window._wandbApiKey = new Promise((resolve, reject) => {\n",
              "            function loadScript(url) {\n",
              "            return new Promise(function(resolve, reject) {\n",
              "                let newScript = document.createElement(\"script\");\n",
              "                newScript.onerror = reject;\n",
              "                newScript.onload = resolve;\n",
              "                document.body.appendChild(newScript);\n",
              "                newScript.src = url;\n",
              "            });\n",
              "            }\n",
              "            loadScript(\"https://cdn.jsdelivr.net/npm/postmate/build/postmate.min.js\").then(() => {\n",
              "            const iframe = document.createElement('iframe')\n",
              "            iframe.style.cssText = \"width:0;height:0;border:none\"\n",
              "            document.body.appendChild(iframe)\n",
              "            const handshake = new Postmate({\n",
              "                container: iframe,\n",
              "                url: 'https://wandb.ai/authorize'\n",
              "            });\n",
              "            const timeout = setTimeout(() => reject(\"Couldn't auto authenticate\"), 5000)\n",
              "            handshake.then(function(child) {\n",
              "                child.on('authorize', data => {\n",
              "                    clearTimeout(timeout)\n",
              "                    resolve(data)\n",
              "                });\n",
              "            });\n",
              "            })\n",
              "        });\n",
              "    "
            ]
          },
          "metadata": {}
        },
        {
          "output_type": "stream",
          "name": "stderr",
          "text": [
            "\u001b[34m\u001b[1mwandb\u001b[0m: Appending key for api.wandb.ai to your netrc file: /root/.netrc\n"
          ]
        },
        {
          "output_type": "display_data",
          "data": {
            "text/plain": [
              "<IPython.core.display.HTML object>"
            ],
            "text/html": [
              "Tracking run with wandb version 0.13.10"
            ]
          },
          "metadata": {}
        },
        {
          "output_type": "display_data",
          "data": {
            "text/plain": [
              "<IPython.core.display.HTML object>"
            ],
            "text/html": [
              "Run data is saved locally in <code>/content/wandb/run-20230305_055316-k7wxmg4q</code>"
            ]
          },
          "metadata": {}
        },
        {
          "output_type": "display_data",
          "data": {
            "text/plain": [
              "<IPython.core.display.HTML object>"
            ],
            "text/html": [
              "Syncing run <strong><a href='https://wandb.ai/gaurxvreddy/learning-pytorch/runs/k7wxmg4q' target=\"_blank\">sage-tree-32</a></strong> to <a href='https://wandb.ai/gaurxvreddy/learning-pytorch' target=\"_blank\">Weights & Biases</a> (<a href='https://wandb.me/run' target=\"_blank\">docs</a>)<br/>"
            ]
          },
          "metadata": {}
        },
        {
          "output_type": "display_data",
          "data": {
            "text/plain": [
              "<IPython.core.display.HTML object>"
            ],
            "text/html": [
              " View project at <a href='https://wandb.ai/gaurxvreddy/learning-pytorch' target=\"_blank\">https://wandb.ai/gaurxvreddy/learning-pytorch</a>"
            ]
          },
          "metadata": {}
        },
        {
          "output_type": "display_data",
          "data": {
            "text/plain": [
              "<IPython.core.display.HTML object>"
            ],
            "text/html": [
              " View run at <a href='https://wandb.ai/gaurxvreddy/learning-pytorch/runs/k7wxmg4q' target=\"_blank\">https://wandb.ai/gaurxvreddy/learning-pytorch/runs/k7wxmg4q</a>"
            ]
          },
          "metadata": {}
        }
      ]
    },
    {
      "cell_type": "code",
      "source": [
        "!git clone https://github.com/gauravreddy08/learning-pytorch\n",
        "!mv /content/learning-pytorch/going_modular .\n",
        "!rm -rf learning-pytorch"
      ],
      "metadata": {
        "colab": {
          "base_uri": "https://localhost:8080/"
        },
        "id": "jyP_gMxB9HGa",
        "outputId": "664c0a2e-8ee8-4be4-f237-fdde8e14b884"
      },
      "execution_count": null,
      "outputs": [
        {
          "output_type": "stream",
          "name": "stdout",
          "text": [
            "Cloning into 'learning-pytorch'...\n",
            "remote: Enumerating objects: 59, done.\u001b[K\n",
            "remote: Counting objects: 100% (59/59), done.\u001b[K\n",
            "remote: Compressing objects: 100% (54/54), done.\u001b[K\n",
            "remote: Total 59 (delta 23), reused 0 (delta 0), pack-reused 0\u001b[K\n",
            "Unpacking objects: 100% (59/59), 1.77 MiB | 6.79 MiB/s, done.\n"
          ]
        }
      ]
    },
    {
      "cell_type": "markdown",
      "source": [
        "## Getting the **data**"
      ],
      "metadata": {
        "id": "kzjKbU1P_meJ"
      }
    },
    {
      "cell_type": "code",
      "source": [
        "import os\n",
        "import zipfile\n",
        "\n",
        "from pathlib import Path\n",
        "import requests\n",
        "\n",
        "def download_data(source: str,\n",
        "                  destination: str,\n",
        "                  remove_source: bool = True) -> Path:\n",
        "    data = Path(\"data/\")\n",
        "    data_path = data /destination\n",
        "    if(data_path.is_dir()):\n",
        "      print(\"[INFO] Data already exists...\")\n",
        "    else:\n",
        "      print(f\"[INFO] Did not find {data_path} directory, creating one...\")\n",
        "      data_path.mkdir(parents=True, exist_ok=True)\n",
        "\n",
        "      target_file = Path(source).name\n",
        "      with open(data/target_file, 'wb') as f:\n",
        "        request = requests.get(source)\n",
        "        print(f\"[INFO] Downloading {target_file} from {source}...\")\n",
        "        f.write(request.content)\n",
        "      with zipfile.ZipFile(data/target_file, 'r') as zip_ref:\n",
        "        print(f\"[INFO] Unzipping {target_file} data...\")\n",
        "        zip_ref.extractall(data_path)\n",
        "      if remove_source:\n",
        "        os.remove(data/target_file)\n",
        "\n",
        "    return data_path\n",
        "\n",
        "data_path = download_data(\"https://github.com/mrdbourke/pytorch-deep-learning/raw/main/data/pizza_steak_sushi_20_percent.zip\", \n",
        "                          destination='pizaa_steak_sushi')\n",
        "train_dir = data_path/'train'\n",
        "test_dir = data_path/'test'\n",
        "\n",
        "print(f\"Training Directory: {train_dir}\")\n",
        "print(f\"Testing Directory: {test_dir}\")"
      ],
      "metadata": {
        "colab": {
          "base_uri": "https://localhost:8080/"
        },
        "id": "jv7n3lmg-rJg",
        "outputId": "ae2d5559-cc64-45b1-fe05-d5745ce3d5ed"
      },
      "execution_count": null,
      "outputs": [
        {
          "output_type": "stream",
          "name": "stdout",
          "text": [
            "[INFO] Did not find data/pizaa_steak_sushi directory, creating one...\n",
            "[INFO] Downloading pizza_steak_sushi_20_percent.zip from https://github.com/mrdbourke/pytorch-deep-learning/raw/main/data/pizza_steak_sushi_20_percent.zip...\n",
            "[INFO] Unzipping pizza_steak_sushi_20_percent.zip data...\n",
            "Training Directory: data/pizaa_steak_sushi/train\n",
            "Testing Directory: data/pizaa_steak_sushi/test\n"
          ]
        }
      ]
    },
    {
      "cell_type": "markdown",
      "source": [
        "## Creating **EffNetB2** feature extractor"
      ],
      "metadata": {
        "id": "drSZA4_OBJbI"
      }
    },
    {
      "cell_type": "code",
      "source": [
        "from going_modular import data_setup"
      ],
      "metadata": {
        "id": "FB8doPG7AG5M"
      },
      "execution_count": null,
      "outputs": []
    },
    {
      "cell_type": "code",
      "source": [
        "import torchvision \n",
        "\n",
        "effnetb2_weights = torchvision.models.EfficientNet_B2_Weights.DEFAULT\n",
        "effnetb2_transforms = effnetb2_weights.transforms()\n",
        "\n",
        "effnetb2 = torchvision.models.efficientnet_b2(weights=effnetb2_weights).to(device)\n",
        "\n",
        "for param in effnetb2.parameters():\n",
        "  param.requires_grad = False"
      ],
      "metadata": {
        "colab": {
          "base_uri": "https://localhost:8080/",
          "height": 87,
          "referenced_widgets": [
            "ac7154cfc31a4a13bfd2ea95dcee641e",
            "7aa1e321dc1f46e483d4eacb03b748c0",
            "3f711996dd3c4d929d88a44105f30445",
            "00e51b99e08347849664578d4480ec76",
            "1de7d10995be473da54dbc48ee5d8b8f",
            "ea82e8ff0d254a6b930c12d95dc5e5dc",
            "6a2ae70ade18478ea7d2bc5fdc29e78b",
            "fa8ad1e936a44f2faffb6923ea98fcf4",
            "888b3194f4e14b678d6ee05184361ca2",
            "64d17c2df77844a4a2b42100f5b18329",
            "b32cf42d4f9b44f9af1e7d0b549a13e0"
          ]
        },
        "id": "D0bbtnpGBVDF",
        "outputId": "e5236798-fcc7-42b9-cb1e-e1ee6d87840e"
      },
      "execution_count": null,
      "outputs": [
        {
          "output_type": "stream",
          "name": "stderr",
          "text": [
            "Downloading: \"https://download.pytorch.org/models/efficientnet_b2_rwightman-bcdf34b7.pth\" to /root/.cache/torch/hub/checkpoints/efficientnet_b2_rwightman-bcdf34b7.pth\n"
          ]
        },
        {
          "output_type": "display_data",
          "data": {
            "text/plain": [
              "  0%|          | 0.00/35.2M [00:00<?, ?B/s]"
            ],
            "application/vnd.jupyter.widget-view+json": {
              "version_major": 2,
              "version_minor": 0,
              "model_id": "ac7154cfc31a4a13bfd2ea95dcee641e"
            }
          },
          "metadata": {}
        }
      ]
    },
    {
      "cell_type": "code",
      "source": [
        "set_seed()\n",
        "\n",
        "effnetb2.classifier = nn.Sequential(\n",
        "    nn.Dropout(p=0.3, inplace=True),\n",
        "    nn.Linear(in_features = 1408, out_features=3)\n",
        ").to(device)"
      ],
      "metadata": {
        "id": "-dBxW8PIB3rp"
      },
      "execution_count": null,
      "outputs": []
    },
    {
      "cell_type": "code",
      "source": [
        "from torchinfo import summary\n",
        "\n",
        "summary(effnetb2, input_size=(32, 3, 224, 224),\n",
        "        col_names=[\"input_size\", \"output_size\", \"num_params\", \"trainable\"])"
      ],
      "metadata": {
        "colab": {
          "base_uri": "https://localhost:8080/"
        },
        "id": "3Zg6eY1lB0PI",
        "outputId": "a166cbda-a65a-4ec3-993e-a30d81766429"
      },
      "execution_count": null,
      "outputs": [
        {
          "output_type": "execute_result",
          "data": {
            "text/plain": [
              "===========================================================================================================================================================\n",
              "Layer (type:depth-idx)                                  Input Shape               Output Shape              Param #                   Trainable\n",
              "===========================================================================================================================================================\n",
              "EfficientNet                                            [32, 3, 224, 224]         [32, 3]                   --                        Partial\n",
              "├─Sequential: 1-1                                       [32, 3, 224, 224]         [32, 1408, 7, 7]          --                        False\n",
              "│    └─Conv2dNormActivation: 2-1                        [32, 3, 224, 224]         [32, 32, 112, 112]        --                        False\n",
              "│    │    └─Conv2d: 3-1                                 [32, 3, 224, 224]         [32, 32, 112, 112]        (864)                     False\n",
              "│    │    └─BatchNorm2d: 3-2                            [32, 32, 112, 112]        [32, 32, 112, 112]        (64)                      False\n",
              "│    │    └─SiLU: 3-3                                   [32, 32, 112, 112]        [32, 32, 112, 112]        --                        --\n",
              "│    └─Sequential: 2-2                                  [32, 32, 112, 112]        [32, 16, 112, 112]        --                        False\n",
              "│    │    └─MBConv: 3-4                                 [32, 32, 112, 112]        [32, 16, 112, 112]        (1,448)                   False\n",
              "│    │    └─MBConv: 3-5                                 [32, 16, 112, 112]        [32, 16, 112, 112]        (612)                     False\n",
              "│    └─Sequential: 2-3                                  [32, 16, 112, 112]        [32, 24, 56, 56]          --                        False\n",
              "│    │    └─MBConv: 3-6                                 [32, 16, 112, 112]        [32, 24, 56, 56]          (6,004)                   False\n",
              "│    │    └─MBConv: 3-7                                 [32, 24, 56, 56]          [32, 24, 56, 56]          (10,710)                  False\n",
              "│    │    └─MBConv: 3-8                                 [32, 24, 56, 56]          [32, 24, 56, 56]          (10,710)                  False\n",
              "│    └─Sequential: 2-4                                  [32, 24, 56, 56]          [32, 48, 28, 28]          --                        False\n",
              "│    │    └─MBConv: 3-9                                 [32, 24, 56, 56]          [32, 48, 28, 28]          (16,518)                  False\n",
              "│    │    └─MBConv: 3-10                                [32, 48, 28, 28]          [32, 48, 28, 28]          (43,308)                  False\n",
              "│    │    └─MBConv: 3-11                                [32, 48, 28, 28]          [32, 48, 28, 28]          (43,308)                  False\n",
              "│    └─Sequential: 2-5                                  [32, 48, 28, 28]          [32, 88, 14, 14]          --                        False\n",
              "│    │    └─MBConv: 3-12                                [32, 48, 28, 28]          [32, 88, 14, 14]          (50,300)                  False\n",
              "│    │    └─MBConv: 3-13                                [32, 88, 14, 14]          [32, 88, 14, 14]          (123,750)                 False\n",
              "│    │    └─MBConv: 3-14                                [32, 88, 14, 14]          [32, 88, 14, 14]          (123,750)                 False\n",
              "│    │    └─MBConv: 3-15                                [32, 88, 14, 14]          [32, 88, 14, 14]          (123,750)                 False\n",
              "│    └─Sequential: 2-6                                  [32, 88, 14, 14]          [32, 120, 14, 14]         --                        False\n",
              "│    │    └─MBConv: 3-16                                [32, 88, 14, 14]          [32, 120, 14, 14]         (149,158)                 False\n",
              "│    │    └─MBConv: 3-17                                [32, 120, 14, 14]         [32, 120, 14, 14]         (237,870)                 False\n",
              "│    │    └─MBConv: 3-18                                [32, 120, 14, 14]         [32, 120, 14, 14]         (237,870)                 False\n",
              "│    │    └─MBConv: 3-19                                [32, 120, 14, 14]         [32, 120, 14, 14]         (237,870)                 False\n",
              "│    └─Sequential: 2-7                                  [32, 120, 14, 14]         [32, 208, 7, 7]           --                        False\n",
              "│    │    └─MBConv: 3-20                                [32, 120, 14, 14]         [32, 208, 7, 7]           (301,406)                 False\n",
              "│    │    └─MBConv: 3-21                                [32, 208, 7, 7]           [32, 208, 7, 7]           (686,868)                 False\n",
              "│    │    └─MBConv: 3-22                                [32, 208, 7, 7]           [32, 208, 7, 7]           (686,868)                 False\n",
              "│    │    └─MBConv: 3-23                                [32, 208, 7, 7]           [32, 208, 7, 7]           (686,868)                 False\n",
              "│    │    └─MBConv: 3-24                                [32, 208, 7, 7]           [32, 208, 7, 7]           (686,868)                 False\n",
              "│    └─Sequential: 2-8                                  [32, 208, 7, 7]           [32, 352, 7, 7]           --                        False\n",
              "│    │    └─MBConv: 3-25                                [32, 208, 7, 7]           [32, 352, 7, 7]           (846,900)                 False\n",
              "│    │    └─MBConv: 3-26                                [32, 352, 7, 7]           [32, 352, 7, 7]           (1,888,920)               False\n",
              "│    └─Conv2dNormActivation: 2-9                        [32, 352, 7, 7]           [32, 1408, 7, 7]          --                        False\n",
              "│    │    └─Conv2d: 3-27                                [32, 352, 7, 7]           [32, 1408, 7, 7]          (495,616)                 False\n",
              "│    │    └─BatchNorm2d: 3-28                           [32, 1408, 7, 7]          [32, 1408, 7, 7]          (2,816)                   False\n",
              "│    │    └─SiLU: 3-29                                  [32, 1408, 7, 7]          [32, 1408, 7, 7]          --                        --\n",
              "├─AdaptiveAvgPool2d: 1-2                                [32, 1408, 7, 7]          [32, 1408, 1, 1]          --                        --\n",
              "├─Sequential: 1-3                                       [32, 1408]                [32, 3]                   --                        True\n",
              "│    └─Dropout: 2-10                                    [32, 1408]                [32, 1408]                --                        --\n",
              "│    └─Linear: 2-11                                     [32, 1408]                [32, 3]                   4,227                     True\n",
              "===========================================================================================================================================================\n",
              "Total params: 7,705,221\n",
              "Trainable params: 4,227\n",
              "Non-trainable params: 7,700,994\n",
              "Total mult-adds (G): 21.04\n",
              "===========================================================================================================================================================\n",
              "Input size (MB): 19.27\n",
              "Forward/backward pass size (MB): 5017.53\n",
              "Params size (MB): 30.82\n",
              "Estimated Total Size (MB): 5067.62\n",
              "==========================================================================================================================================================="
            ]
          },
          "metadata": {},
          "execution_count": 9
        }
      ]
    },
    {
      "cell_type": "code",
      "source": [
        "train_dataloader, test_dataloader, class_names = data_setup.create_dataset(train_dir=train_dir,\n",
        "                                                      test_dir = test_dir,\n",
        "                                                      transform = effnetb2_transforms)"
      ],
      "metadata": {
        "id": "i-QG_hkbDI0_"
      },
      "execution_count": null,
      "outputs": []
    },
    {
      "cell_type": "code",
      "source": [
        "class_names"
      ],
      "metadata": {
        "colab": {
          "base_uri": "https://localhost:8080/"
        },
        "id": "lMLlqSWhD1Oe",
        "outputId": "b371cd8d-ff89-4a2b-9acd-ac4bc139fe2c"
      },
      "execution_count": null,
      "outputs": [
        {
          "output_type": "execute_result",
          "data": {
            "text/plain": [
              "['pizza', 'steak', 'sushi']"
            ]
          },
          "metadata": {},
          "execution_count": 11
        }
      ]
    },
    {
      "cell_type": "code",
      "source": [
        "loss_fn = nn.CrossEntropyLoss()\n",
        "optimizer = torch.optim.Adam(lr=1e-3, params=effnetb2.parameters())"
      ],
      "metadata": {
        "id": "KS4PoVSZD6cG"
      },
      "execution_count": null,
      "outputs": []
    },
    {
      "cell_type": "code",
      "source": [
        "set_seed()\n",
        "\n",
        "from going_modular import engine\n",
        "\n",
        "results = engine.train(model=effnetb2,\n",
        "                       train_data=train_dataloader, test_data=test_dataloader,\n",
        "                       epochs=10, optimizer=optimizer, loss=loss_fn)"
      ],
      "metadata": {
        "colab": {
          "base_uri": "https://localhost:8080/"
        },
        "id": "bKXxVmaPEItE",
        "outputId": "522d0f53-2dd0-430b-a620-7dd76a8d29f8"
      },
      "execution_count": null,
      "outputs": [
        {
          "output_type": "stream",
          "name": "stdout",
          "text": [
            "EPOCH [0]\n",
            "Train Loss: 0.9848, Train Acc: 0.57% | Test Loss: 0.7388, Test Acc: 0.94% \n",
            "------------\n",
            "EPOCH [1]\n",
            "Train Loss: 0.7138, Train Acc: 0.84% | Test Loss: 0.5851, Test Acc: 0.94% \n",
            "------------\n",
            "EPOCH [2]\n",
            "Train Loss: 0.5871, Train Acc: 0.89% | Test Loss: 0.4897, Test Acc: 0.95% \n",
            "------------\n",
            "EPOCH [3]\n",
            "Train Loss: 0.4480, Train Acc: 0.91% | Test Loss: 0.4342, Test Acc: 0.93% \n",
            "------------\n",
            "EPOCH [4]\n",
            "Train Loss: 0.4264, Train Acc: 0.91% | Test Loss: 0.3899, Test Acc: 0.94% \n",
            "------------\n",
            "EPOCH [5]\n",
            "Train Loss: 0.4377, Train Acc: 0.89% | Test Loss: 0.3513, Test Acc: 0.97% \n",
            "------------\n",
            "EPOCH [6]\n",
            "Train Loss: 0.4238, Train Acc: 0.88% | Test Loss: 0.3264, Test Acc: 0.96% \n",
            "------------\n",
            "EPOCH [7]\n",
            "Train Loss: 0.3881, Train Acc: 0.90% | Test Loss: 0.3458, Test Acc: 0.94% \n",
            "------------\n",
            "EPOCH [8]\n",
            "Train Loss: 0.3773, Train Acc: 0.88% | Test Loss: 0.3125, Test Acc: 0.92% \n",
            "------------\n",
            "EPOCH [9]\n",
            "Train Loss: 0.3739, Train Acc: 0.87% | Test Loss: 0.2809, Test Acc: 0.97% \n",
            "------------\n"
          ]
        }
      ]
    },
    {
      "cell_type": "code",
      "source": [
        "name = 'effnetb2.pth'\n",
        "torch.save(obj=effnetb2.state_dict(), f=name)\n",
        "print(f\"[INFO] Saved model as {name}\")"
      ],
      "metadata": {
        "colab": {
          "base_uri": "https://localhost:8080/"
        },
        "id": "yetJzv05IZnW",
        "outputId": "acd800c8-c716-46d3-9469-868cff87aced"
      },
      "execution_count": null,
      "outputs": [
        {
          "output_type": "stream",
          "name": "stdout",
          "text": [
            "[INFO] Saved model as effnetb2.pth\n"
          ]
        }
      ]
    },
    {
      "cell_type": "code",
      "source": [
        "model_path = Path(name)\n",
        "print(f\"EffNetB2 Size = {model_path.stat().st_size / (1024 * 1024) :.2f} mb\")"
      ],
      "metadata": {
        "colab": {
          "base_uri": "https://localhost:8080/"
        },
        "id": "1WqK0mFNI4li",
        "outputId": "b43923ff-913b-41eb-d3d8-275850b44f37"
      },
      "execution_count": null,
      "outputs": [
        {
          "output_type": "stream",
          "name": "stdout",
          "text": [
            "EffNetB2 Size = 29.83 mb\n"
          ]
        }
      ]
    },
    {
      "cell_type": "code",
      "source": [
        "effnetb2_stats = {\n",
        "    'test_loss': results['test_loss'][-1],\n",
        "    'test_acc': results['test_acc'][-1],\n",
        "    'num_param': sum(torch.numel(param) for param in effnetb2.parameters()),\n",
        "    'model_size': round(model_path.stat().st_size / (1024 * 1024), 2)\n",
        "}\n",
        "\n",
        "effnetb2_stats"
      ],
      "metadata": {
        "colab": {
          "base_uri": "https://localhost:8080/"
        },
        "id": "FgxvPxfZJQzA",
        "outputId": "a29c6b91-3ecd-4106-b5a1-4e19959901db"
      },
      "execution_count": null,
      "outputs": [
        {
          "output_type": "execute_result",
          "data": {
            "text/plain": [
              "{'test_loss': tensor(0.2809),\n",
              " 'test_acc': 0.96875,\n",
              " 'num_param': 7705221,\n",
              " 'model_size': 29.83}"
            ]
          },
          "metadata": {},
          "execution_count": 16
        }
      ]
    },
    {
      "cell_type": "markdown",
      "source": [
        "## Geting **ViT-16** model"
      ],
      "metadata": {
        "id": "SSS-OcUdWQMK"
      }
    },
    {
      "cell_type": "code",
      "source": [
        "vit16_weights = torchvision.models.ViT_B_16_Weights.DEFAULT\n",
        "vit16_transforms = vit16_weights.transforms()\n",
        "\n",
        "vit16 = torchvision.models.vit_b_16(weights=vit16_weights).to(device)"
      ],
      "metadata": {
        "id": "Vt2g3VhrWHWc",
        "colab": {
          "base_uri": "https://localhost:8080/",
          "height": 87,
          "referenced_widgets": [
            "a80a43a790e245c3a016816dde945812",
            "a6dad081a34d4359ba0387772217e2f2",
            "809ae826f1f544129b78ec141c559e63",
            "d5923449daff40498522d18b1b0c2d5f",
            "8cc9695e864643728dc25af870415fac",
            "434a4bc12eb54828a71fe11774cced9f",
            "793fc60dd9ad4c1e996921ac81d72a72",
            "09f904205ddd43dea14cce501ad00d63",
            "1e224b73550845ef8347972c84208007",
            "8eece61122dd497bafdeba4ff3f634d9",
            "d51ff238998b428ab4e01a1764206800"
          ]
        },
        "outputId": "861a841e-2a05-4f05-a2fe-682f34138ef8"
      },
      "execution_count": null,
      "outputs": [
        {
          "output_type": "stream",
          "name": "stderr",
          "text": [
            "Downloading: \"https://download.pytorch.org/models/vit_b_16-c867db91.pth\" to /root/.cache/torch/hub/checkpoints/vit_b_16-c867db91.pth\n"
          ]
        },
        {
          "output_type": "display_data",
          "data": {
            "text/plain": [
              "  0%|          | 0.00/330M [00:00<?, ?B/s]"
            ],
            "application/vnd.jupyter.widget-view+json": {
              "version_major": 2,
              "version_minor": 0,
              "model_id": "a80a43a790e245c3a016816dde945812"
            }
          },
          "metadata": {}
        }
      ]
    },
    {
      "cell_type": "code",
      "source": [
        "vit16_transforms"
      ],
      "metadata": {
        "colab": {
          "base_uri": "https://localhost:8080/"
        },
        "id": "IrWB7I1-XmVc",
        "outputId": "c53be421-a716-437c-80a0-4f524ba85620"
      },
      "execution_count": null,
      "outputs": [
        {
          "output_type": "execute_result",
          "data": {
            "text/plain": [
              "ImageClassification(\n",
              "    crop_size=[224]\n",
              "    resize_size=[256]\n",
              "    mean=[0.485, 0.456, 0.406]\n",
              "    std=[0.229, 0.224, 0.225]\n",
              "    interpolation=InterpolationMode.BILINEAR\n",
              ")"
            ]
          },
          "metadata": {},
          "execution_count": 18
        }
      ]
    },
    {
      "cell_type": "code",
      "source": [
        "vit16.heads"
      ],
      "metadata": {
        "colab": {
          "base_uri": "https://localhost:8080/"
        },
        "id": "noNxvSrlXTg-",
        "outputId": "dd339922-9c3b-4d95-c341-ee11a461d67a"
      },
      "execution_count": null,
      "outputs": [
        {
          "output_type": "execute_result",
          "data": {
            "text/plain": [
              "Sequential(\n",
              "  (head): Linear(in_features=768, out_features=1000, bias=True)\n",
              ")"
            ]
          },
          "metadata": {},
          "execution_count": 19
        }
      ]
    },
    {
      "cell_type": "code",
      "source": [
        "set_seed()\n",
        "\n",
        "for param in vit16.parameters():\n",
        "  param.requires_grad = False\n",
        "\n",
        "vit16.heads = nn.Sequential(\n",
        "    nn.Dropout(p=0.3),\n",
        "    nn.Linear(in_features=768, out_features=3)\n",
        ").to(device)"
      ],
      "metadata": {
        "id": "RDaMJqXgW1n5"
      },
      "execution_count": null,
      "outputs": []
    },
    {
      "cell_type": "code",
      "source": [
        "train_dataloader, test_dataloader, class_names = \\\n",
        "      data_setup.create_dataset(train_dir=train_dir, \n",
        "                                test_dir=test_dir, \n",
        "                                transform=vit16_transforms)"
      ],
      "metadata": {
        "id": "_gP27bHLXYSb"
      },
      "execution_count": null,
      "outputs": []
    },
    {
      "cell_type": "code",
      "source": [
        "set_seed()\n",
        "\n",
        "loss_fn = nn.CrossEntropyLoss()\n",
        "optimizer = torch.optim.Adam(lr=1e-3, params=vit16.parameters())\n",
        "\n",
        "results = engine.train(model=vit16, train_data=train_dataloader,\n",
        "                       test_data=test_dataloader, epochs=10,\n",
        "                       loss=loss_fn, optimizer=optimizer)"
      ],
      "metadata": {
        "colab": {
          "base_uri": "https://localhost:8080/"
        },
        "id": "wnt09ww6XjUC",
        "outputId": "c8266c67-6ccb-4338-a142-230fbea96ca7"
      },
      "execution_count": null,
      "outputs": [
        {
          "output_type": "stream",
          "name": "stdout",
          "text": [
            "EPOCH [0]\n",
            "Train Loss: 0.7245, Train Acc: 0.72% | Test Loss: 0.2896, Test Acc: 0.93% \n",
            "------------\n",
            "EPOCH [1]\n",
            "Train Loss: 0.2648, Train Acc: 0.91% | Test Loss: 0.1720, Test Acc: 0.96% \n",
            "------------\n",
            "EPOCH [2]\n",
            "Train Loss: 0.1975, Train Acc: 0.95% | Test Loss: 0.1281, Test Acc: 0.97% \n",
            "------------\n",
            "EPOCH [3]\n",
            "Train Loss: 0.1410, Train Acc: 0.96% | Test Loss: 0.1085, Test Acc: 0.97% \n",
            "------------\n",
            "EPOCH [4]\n",
            "Train Loss: 0.1234, Train Acc: 0.96% | Test Loss: 0.0965, Test Acc: 0.98% \n",
            "------------\n",
            "EPOCH [5]\n",
            "Train Loss: 0.1387, Train Acc: 0.94% | Test Loss: 0.0846, Test Acc: 0.97% \n",
            "------------\n",
            "EPOCH [6]\n",
            "Train Loss: 0.1079, Train Acc: 0.96% | Test Loss: 0.0831, Test Acc: 0.99% \n",
            "------------\n",
            "EPOCH [7]\n",
            "Train Loss: 0.1237, Train Acc: 0.94% | Test Loss: 0.0761, Test Acc: 0.98% \n",
            "------------\n",
            "EPOCH [8]\n",
            "Train Loss: 0.1052, Train Acc: 0.98% | Test Loss: 0.0750, Test Acc: 0.98% \n",
            "------------\n",
            "EPOCH [9]\n",
            "Train Loss: 0.0786, Train Acc: 0.99% | Test Loss: 0.0640, Test Acc: 1.00% \n",
            "------------\n"
          ]
        }
      ]
    },
    {
      "cell_type": "code",
      "source": [
        "name = 'vit16.pth'\n",
        "torch.save(obj=vit16.state_dict(), f=name)\n",
        "print(f\"[INFO] Saved model as {name}\")"
      ],
      "metadata": {
        "colab": {
          "base_uri": "https://localhost:8080/"
        },
        "id": "no0VghHlYEvE",
        "outputId": "47a4ea05-7c39-4de5-b984-64510ca3ab67"
      },
      "execution_count": null,
      "outputs": [
        {
          "output_type": "stream",
          "name": "stdout",
          "text": [
            "[INFO] Saved model as vit16.pth\n"
          ]
        }
      ]
    },
    {
      "cell_type": "code",
      "source": [
        "model_path = Path(name)\n",
        "print(f\"ViT16 Size = {model_path.stat().st_size / (1024 * 1024) :.2f} mb\")"
      ],
      "metadata": {
        "colab": {
          "base_uri": "https://localhost:8080/"
        },
        "id": "GGBi8QbhYTAY",
        "outputId": "de1e63de-54f0-48ba-8aeb-544941334abc"
      },
      "execution_count": null,
      "outputs": [
        {
          "output_type": "stream",
          "name": "stdout",
          "text": [
            "ViT16 Size = 327.35 mb\n"
          ]
        }
      ]
    },
    {
      "cell_type": "code",
      "source": [
        "vit16_stats = {\n",
        "    'test_loss': results['test_loss'][-1],\n",
        "    'test_acc': results['test_acc'][-1],\n",
        "    'num_param': sum(torch.numel(param) for param in vit16.parameters()),\n",
        "    'model_size': round(model_path.stat().st_size / (1024 * 1024), 2)\n",
        "}\n",
        "\n",
        "vit16_stats"
      ],
      "metadata": {
        "colab": {
          "base_uri": "https://localhost:8080/"
        },
        "id": "f7TqHQ5dYWLF",
        "outputId": "f1b3d91b-eae7-442b-faea-79332fb1d8ea"
      },
      "execution_count": null,
      "outputs": [
        {
          "output_type": "execute_result",
          "data": {
            "text/plain": [
              "{'test_loss': tensor(0.0640),\n",
              " 'test_acc': 1.0,\n",
              " 'num_param': 85800963,\n",
              " 'model_size': 327.35}"
            ]
          },
          "metadata": {},
          "execution_count": 25
        }
      ]
    },
    {
      "cell_type": "code",
      "source": [
        "from typing import List, Dict\n",
        "from timeit import default_timer as timer\n",
        "from tqdm.auto import tqdm\n",
        "import pathlib\n",
        "from PIL import Image\n",
        "\n",
        "def pred_and_store(path_list: List[pathlib.Path],\n",
        "                   model: nn.Module,\n",
        "                   class_names: List[str],\n",
        "                   transform: torchvision.transforms,\n",
        "                   device: torch.device = 'cuda') -> List[Dict]:\n",
        "  pred_list = []\n",
        "  total_time=0\n",
        "  for path in path_list:\n",
        "    pred_dict = {}\n",
        "\n",
        "    pred_dict[\"file_path\"] = path\n",
        "    class_name = path.parent.stem\n",
        "    pred_dict[\"target\"] = class_name\n",
        "\n",
        "    start_time = timer()\n",
        "\n",
        "    img = Image.open(path)\n",
        "    transformed_img = transform(img).unsqueeze(dim=0).to(device)\n",
        "\n",
        "    model = model.to(device)\n",
        "    model.eval()\n",
        "\n",
        "    with torch.inference_mode():\n",
        "      pred_logit = model(transformed_img)\n",
        "      pred_prob = torch.softmax(pred_logit, dim=1)\n",
        "      pred_label = torch.argmax(pred_logit, dim=1)\n",
        "      pred_class = class_names[pred_label.cpu()]\n",
        "\n",
        "      pred_dict[\"pred_prob\"] = round(pred_prob.max().cpu().item(), 4)\n",
        "      \n",
        "      end_time = timer()\n",
        "      pred_dict[\"time_taken\"] = round(end_time-start_time, 4)\n",
        "      total_time+=pred_dict[\"time_taken\"] \n",
        "      \n",
        "      pred_dict['correct'] = pred_class==class_name\n",
        "\n",
        "      pred_list.append(pred_dict)\n",
        "\n",
        "  print(f\"Avg Time Taken: {round(total_time/len(pred_list), 4)} ms\")\n",
        "  return pred_list"
      ],
      "metadata": {
        "id": "W-UoTOQ_YgXd"
      },
      "execution_count": null,
      "outputs": []
    },
    {
      "cell_type": "code",
      "source": [
        "test_data_paths = list(Path(test_dir).glob(\"*/*.jpg\"))\n",
        "\n",
        "effnetb2_preds = pred_and_store(test_data_paths, effnetb2,\n",
        "                                class_names, effnetb2_transforms)\n",
        "\n",
        "effnetb2_preds[:3]"
      ],
      "metadata": {
        "colab": {
          "base_uri": "https://localhost:8080/"
        },
        "id": "Xh1DULzFnPPo",
        "outputId": "9f70f3f6-9bd5-4dec-8628-36e9b9ff9fa7"
      },
      "execution_count": null,
      "outputs": [
        {
          "output_type": "stream",
          "name": "stdout",
          "text": [
            "Avg Time Taken: 0.0392 ms\n"
          ]
        },
        {
          "output_type": "execute_result",
          "data": {
            "text/plain": [
              "[{'file_path': PosixPath('data/pizaa_steak_sushi/test/sushi/472912.jpg'),\n",
              "  'target': 'sushi',\n",
              "  'pred_prob': 0.6727,\n",
              "  'time_taken': 0.0718,\n",
              "  'correct': True},\n",
              " {'file_path': PosixPath('data/pizaa_steak_sushi/test/sushi/3227791.jpg'),\n",
              "  'target': 'sushi',\n",
              "  'pred_prob': 0.8664,\n",
              "  'time_taken': 0.0464,\n",
              "  'correct': True},\n",
              " {'file_path': PosixPath('data/pizaa_steak_sushi/test/sushi/2903621.jpg'),\n",
              "  'target': 'sushi',\n",
              "  'pred_prob': 0.7458,\n",
              "  'time_taken': 0.0684,\n",
              "  'correct': True}]"
            ]
          },
          "metadata": {},
          "execution_count": 27
        }
      ]
    },
    {
      "cell_type": "code",
      "source": [
        "effnetb2_preds_df = pd.DataFrame(effnetb2_preds)\n",
        "effnetb2_preds_df.head()"
      ],
      "metadata": {
        "colab": {
          "base_uri": "https://localhost:8080/",
          "height": 270
        },
        "id": "QzQoXsVOoR8d",
        "outputId": "b70f67d8-fc4e-4c9a-be17-f592fc13e014"
      },
      "execution_count": null,
      "outputs": [
        {
          "output_type": "execute_result",
          "data": {
            "text/plain": [
              "                                       file_path target  pred_prob  \\\n",
              "0   data/pizaa_steak_sushi/test/sushi/472912.jpg  sushi     0.6727   \n",
              "1  data/pizaa_steak_sushi/test/sushi/3227791.jpg  sushi     0.8664   \n",
              "2  data/pizaa_steak_sushi/test/sushi/2903621.jpg  sushi     0.7458   \n",
              "3  data/pizaa_steak_sushi/test/sushi/1063878.jpg  sushi     0.9626   \n",
              "4   data/pizaa_steak_sushi/test/sushi/715227.jpg  sushi     0.7316   \n",
              "\n",
              "   time_taken  correct  \n",
              "0      0.0718     True  \n",
              "1      0.0464     True  \n",
              "2      0.0684     True  \n",
              "3      0.0529     True  \n",
              "4      0.0481     True  "
            ],
            "text/html": [
              "\n",
              "  <div id=\"df-d1fc0a53-5e1a-4c34-81dc-24847a2d9cb8\">\n",
              "    <div class=\"colab-df-container\">\n",
              "      <div>\n",
              "<style scoped>\n",
              "    .dataframe tbody tr th:only-of-type {\n",
              "        vertical-align: middle;\n",
              "    }\n",
              "\n",
              "    .dataframe tbody tr th {\n",
              "        vertical-align: top;\n",
              "    }\n",
              "\n",
              "    .dataframe thead th {\n",
              "        text-align: right;\n",
              "    }\n",
              "</style>\n",
              "<table border=\"1\" class=\"dataframe\">\n",
              "  <thead>\n",
              "    <tr style=\"text-align: right;\">\n",
              "      <th></th>\n",
              "      <th>file_path</th>\n",
              "      <th>target</th>\n",
              "      <th>pred_prob</th>\n",
              "      <th>time_taken</th>\n",
              "      <th>correct</th>\n",
              "    </tr>\n",
              "  </thead>\n",
              "  <tbody>\n",
              "    <tr>\n",
              "      <th>0</th>\n",
              "      <td>data/pizaa_steak_sushi/test/sushi/472912.jpg</td>\n",
              "      <td>sushi</td>\n",
              "      <td>0.6727</td>\n",
              "      <td>0.0718</td>\n",
              "      <td>True</td>\n",
              "    </tr>\n",
              "    <tr>\n",
              "      <th>1</th>\n",
              "      <td>data/pizaa_steak_sushi/test/sushi/3227791.jpg</td>\n",
              "      <td>sushi</td>\n",
              "      <td>0.8664</td>\n",
              "      <td>0.0464</td>\n",
              "      <td>True</td>\n",
              "    </tr>\n",
              "    <tr>\n",
              "      <th>2</th>\n",
              "      <td>data/pizaa_steak_sushi/test/sushi/2903621.jpg</td>\n",
              "      <td>sushi</td>\n",
              "      <td>0.7458</td>\n",
              "      <td>0.0684</td>\n",
              "      <td>True</td>\n",
              "    </tr>\n",
              "    <tr>\n",
              "      <th>3</th>\n",
              "      <td>data/pizaa_steak_sushi/test/sushi/1063878.jpg</td>\n",
              "      <td>sushi</td>\n",
              "      <td>0.9626</td>\n",
              "      <td>0.0529</td>\n",
              "      <td>True</td>\n",
              "    </tr>\n",
              "    <tr>\n",
              "      <th>4</th>\n",
              "      <td>data/pizaa_steak_sushi/test/sushi/715227.jpg</td>\n",
              "      <td>sushi</td>\n",
              "      <td>0.7316</td>\n",
              "      <td>0.0481</td>\n",
              "      <td>True</td>\n",
              "    </tr>\n",
              "  </tbody>\n",
              "</table>\n",
              "</div>\n",
              "      <button class=\"colab-df-convert\" onclick=\"convertToInteractive('df-d1fc0a53-5e1a-4c34-81dc-24847a2d9cb8')\"\n",
              "              title=\"Convert this dataframe to an interactive table.\"\n",
              "              style=\"display:none;\">\n",
              "        \n",
              "  <svg xmlns=\"http://www.w3.org/2000/svg\" height=\"24px\"viewBox=\"0 0 24 24\"\n",
              "       width=\"24px\">\n",
              "    <path d=\"M0 0h24v24H0V0z\" fill=\"none\"/>\n",
              "    <path d=\"M18.56 5.44l.94 2.06.94-2.06 2.06-.94-2.06-.94-.94-2.06-.94 2.06-2.06.94zm-11 1L8.5 8.5l.94-2.06 2.06-.94-2.06-.94L8.5 2.5l-.94 2.06-2.06.94zm10 10l.94 2.06.94-2.06 2.06-.94-2.06-.94-.94-2.06-.94 2.06-2.06.94z\"/><path d=\"M17.41 7.96l-1.37-1.37c-.4-.4-.92-.59-1.43-.59-.52 0-1.04.2-1.43.59L10.3 9.45l-7.72 7.72c-.78.78-.78 2.05 0 2.83L4 21.41c.39.39.9.59 1.41.59.51 0 1.02-.2 1.41-.59l7.78-7.78 2.81-2.81c.8-.78.8-2.07 0-2.86zM5.41 20L4 18.59l7.72-7.72 1.47 1.35L5.41 20z\"/>\n",
              "  </svg>\n",
              "      </button>\n",
              "      \n",
              "  <style>\n",
              "    .colab-df-container {\n",
              "      display:flex;\n",
              "      flex-wrap:wrap;\n",
              "      gap: 12px;\n",
              "    }\n",
              "\n",
              "    .colab-df-convert {\n",
              "      background-color: #E8F0FE;\n",
              "      border: none;\n",
              "      border-radius: 50%;\n",
              "      cursor: pointer;\n",
              "      display: none;\n",
              "      fill: #1967D2;\n",
              "      height: 32px;\n",
              "      padding: 0 0 0 0;\n",
              "      width: 32px;\n",
              "    }\n",
              "\n",
              "    .colab-df-convert:hover {\n",
              "      background-color: #E2EBFA;\n",
              "      box-shadow: 0px 1px 2px rgba(60, 64, 67, 0.3), 0px 1px 3px 1px rgba(60, 64, 67, 0.15);\n",
              "      fill: #174EA6;\n",
              "    }\n",
              "\n",
              "    [theme=dark] .colab-df-convert {\n",
              "      background-color: #3B4455;\n",
              "      fill: #D2E3FC;\n",
              "    }\n",
              "\n",
              "    [theme=dark] .colab-df-convert:hover {\n",
              "      background-color: #434B5C;\n",
              "      box-shadow: 0px 1px 3px 1px rgba(0, 0, 0, 0.15);\n",
              "      filter: drop-shadow(0px 1px 2px rgba(0, 0, 0, 0.3));\n",
              "      fill: #FFFFFF;\n",
              "    }\n",
              "  </style>\n",
              "\n",
              "      <script>\n",
              "        const buttonEl =\n",
              "          document.querySelector('#df-d1fc0a53-5e1a-4c34-81dc-24847a2d9cb8 button.colab-df-convert');\n",
              "        buttonEl.style.display =\n",
              "          google.colab.kernel.accessAllowed ? 'block' : 'none';\n",
              "\n",
              "        async function convertToInteractive(key) {\n",
              "          const element = document.querySelector('#df-d1fc0a53-5e1a-4c34-81dc-24847a2d9cb8');\n",
              "          const dataTable =\n",
              "            await google.colab.kernel.invokeFunction('convertToInteractive',\n",
              "                                                     [key], {});\n",
              "          if (!dataTable) return;\n",
              "\n",
              "          const docLinkHtml = 'Like what you see? Visit the ' +\n",
              "            '<a target=\"_blank\" href=https://colab.research.google.com/notebooks/data_table.ipynb>data table notebook</a>'\n",
              "            + ' to learn more about interactive tables.';\n",
              "          element.innerHTML = '';\n",
              "          dataTable['output_type'] = 'display_data';\n",
              "          await google.colab.output.renderOutput(dataTable, element);\n",
              "          const docLink = document.createElement('div');\n",
              "          docLink.innerHTML = docLinkHtml;\n",
              "          element.appendChild(docLink);\n",
              "        }\n",
              "      </script>\n",
              "    </div>\n",
              "  </div>\n",
              "  "
            ]
          },
          "metadata": {},
          "execution_count": 28
        }
      ]
    },
    {
      "cell_type": "code",
      "source": [
        "effnetb2_stats['avg_time'] = round(effnetb2_preds_df.time_taken.mean(), 5)"
      ],
      "metadata": {
        "id": "Kg1zo3Cro3dP"
      },
      "execution_count": null,
      "outputs": []
    },
    {
      "cell_type": "code",
      "source": [
        "vit16_preds = pred_and_store(test_data_paths, vit16,\n",
        "                             class_names, vit16_transforms)\n",
        "\n",
        "vit16_preds[:3]"
      ],
      "metadata": {
        "colab": {
          "base_uri": "https://localhost:8080/"
        },
        "id": "dxfZcK8BybFS",
        "outputId": "6ba8d3e7-59d8-4592-d9cb-24572919ea1e"
      },
      "execution_count": null,
      "outputs": [
        {
          "output_type": "stream",
          "name": "stdout",
          "text": [
            "Avg Time Taken: 0.0218 ms\n"
          ]
        },
        {
          "output_type": "execute_result",
          "data": {
            "text/plain": [
              "[{'file_path': PosixPath('data/pizaa_steak_sushi/test/sushi/472912.jpg'),\n",
              "  'target': 'sushi',\n",
              "  'pred_prob': 0.7763,\n",
              "  'time_taken': 0.0371,\n",
              "  'correct': True},\n",
              " {'file_path': PosixPath('data/pizaa_steak_sushi/test/sushi/3227791.jpg'),\n",
              "  'target': 'sushi',\n",
              "  'pred_prob': 0.5297,\n",
              "  'time_taken': 0.0317,\n",
              "  'correct': True},\n",
              " {'file_path': PosixPath('data/pizaa_steak_sushi/test/sushi/2903621.jpg'),\n",
              "  'target': 'sushi',\n",
              "  'pred_prob': 0.9208,\n",
              "  'time_taken': 0.0328,\n",
              "  'correct': True}]"
            ]
          },
          "metadata": {},
          "execution_count": 70
        }
      ]
    },
    {
      "cell_type": "code",
      "source": [
        "vit16_preds_df = pd.DataFrame(vit16_preds)\n",
        "vit16_preds_df.head()"
      ],
      "metadata": {
        "colab": {
          "base_uri": "https://localhost:8080/",
          "height": 270
        },
        "id": "JfgUUV0iyiPM",
        "outputId": "e3d9a326-c09f-4795-e7b3-1a45f836ca6d"
      },
      "execution_count": null,
      "outputs": [
        {
          "output_type": "execute_result",
          "data": {
            "text/plain": [
              "                                       file_path target  pred_prob  \\\n",
              "0   data/pizaa_steak_sushi/test/sushi/472912.jpg  sushi     0.7763   \n",
              "1  data/pizaa_steak_sushi/test/sushi/3227791.jpg  sushi     0.5297   \n",
              "2  data/pizaa_steak_sushi/test/sushi/2903621.jpg  sushi     0.9208   \n",
              "3  data/pizaa_steak_sushi/test/sushi/1063878.jpg  sushi     0.9413   \n",
              "4   data/pizaa_steak_sushi/test/sushi/715227.jpg  sushi     0.9798   \n",
              "\n",
              "   time_taken  correct  \n",
              "0      0.0399     True  \n",
              "1      0.0382     True  \n",
              "2      0.0398     True  \n",
              "3      0.0389     True  \n",
              "4      0.0375     True  "
            ],
            "text/html": [
              "\n",
              "  <div id=\"df-83e47f69-4619-4c83-a3da-b4b9ce4350af\">\n",
              "    <div class=\"colab-df-container\">\n",
              "      <div>\n",
              "<style scoped>\n",
              "    .dataframe tbody tr th:only-of-type {\n",
              "        vertical-align: middle;\n",
              "    }\n",
              "\n",
              "    .dataframe tbody tr th {\n",
              "        vertical-align: top;\n",
              "    }\n",
              "\n",
              "    .dataframe thead th {\n",
              "        text-align: right;\n",
              "    }\n",
              "</style>\n",
              "<table border=\"1\" class=\"dataframe\">\n",
              "  <thead>\n",
              "    <tr style=\"text-align: right;\">\n",
              "      <th></th>\n",
              "      <th>file_path</th>\n",
              "      <th>target</th>\n",
              "      <th>pred_prob</th>\n",
              "      <th>time_taken</th>\n",
              "      <th>correct</th>\n",
              "    </tr>\n",
              "  </thead>\n",
              "  <tbody>\n",
              "    <tr>\n",
              "      <th>0</th>\n",
              "      <td>data/pizaa_steak_sushi/test/sushi/472912.jpg</td>\n",
              "      <td>sushi</td>\n",
              "      <td>0.7763</td>\n",
              "      <td>0.0399</td>\n",
              "      <td>True</td>\n",
              "    </tr>\n",
              "    <tr>\n",
              "      <th>1</th>\n",
              "      <td>data/pizaa_steak_sushi/test/sushi/3227791.jpg</td>\n",
              "      <td>sushi</td>\n",
              "      <td>0.5297</td>\n",
              "      <td>0.0382</td>\n",
              "      <td>True</td>\n",
              "    </tr>\n",
              "    <tr>\n",
              "      <th>2</th>\n",
              "      <td>data/pizaa_steak_sushi/test/sushi/2903621.jpg</td>\n",
              "      <td>sushi</td>\n",
              "      <td>0.9208</td>\n",
              "      <td>0.0398</td>\n",
              "      <td>True</td>\n",
              "    </tr>\n",
              "    <tr>\n",
              "      <th>3</th>\n",
              "      <td>data/pizaa_steak_sushi/test/sushi/1063878.jpg</td>\n",
              "      <td>sushi</td>\n",
              "      <td>0.9413</td>\n",
              "      <td>0.0389</td>\n",
              "      <td>True</td>\n",
              "    </tr>\n",
              "    <tr>\n",
              "      <th>4</th>\n",
              "      <td>data/pizaa_steak_sushi/test/sushi/715227.jpg</td>\n",
              "      <td>sushi</td>\n",
              "      <td>0.9798</td>\n",
              "      <td>0.0375</td>\n",
              "      <td>True</td>\n",
              "    </tr>\n",
              "  </tbody>\n",
              "</table>\n",
              "</div>\n",
              "      <button class=\"colab-df-convert\" onclick=\"convertToInteractive('df-83e47f69-4619-4c83-a3da-b4b9ce4350af')\"\n",
              "              title=\"Convert this dataframe to an interactive table.\"\n",
              "              style=\"display:none;\">\n",
              "        \n",
              "  <svg xmlns=\"http://www.w3.org/2000/svg\" height=\"24px\"viewBox=\"0 0 24 24\"\n",
              "       width=\"24px\">\n",
              "    <path d=\"M0 0h24v24H0V0z\" fill=\"none\"/>\n",
              "    <path d=\"M18.56 5.44l.94 2.06.94-2.06 2.06-.94-2.06-.94-.94-2.06-.94 2.06-2.06.94zm-11 1L8.5 8.5l.94-2.06 2.06-.94-2.06-.94L8.5 2.5l-.94 2.06-2.06.94zm10 10l.94 2.06.94-2.06 2.06-.94-2.06-.94-.94-2.06-.94 2.06-2.06.94z\"/><path d=\"M17.41 7.96l-1.37-1.37c-.4-.4-.92-.59-1.43-.59-.52 0-1.04.2-1.43.59L10.3 9.45l-7.72 7.72c-.78.78-.78 2.05 0 2.83L4 21.41c.39.39.9.59 1.41.59.51 0 1.02-.2 1.41-.59l7.78-7.78 2.81-2.81c.8-.78.8-2.07 0-2.86zM5.41 20L4 18.59l7.72-7.72 1.47 1.35L5.41 20z\"/>\n",
              "  </svg>\n",
              "      </button>\n",
              "      \n",
              "  <style>\n",
              "    .colab-df-container {\n",
              "      display:flex;\n",
              "      flex-wrap:wrap;\n",
              "      gap: 12px;\n",
              "    }\n",
              "\n",
              "    .colab-df-convert {\n",
              "      background-color: #E8F0FE;\n",
              "      border: none;\n",
              "      border-radius: 50%;\n",
              "      cursor: pointer;\n",
              "      display: none;\n",
              "      fill: #1967D2;\n",
              "      height: 32px;\n",
              "      padding: 0 0 0 0;\n",
              "      width: 32px;\n",
              "    }\n",
              "\n",
              "    .colab-df-convert:hover {\n",
              "      background-color: #E2EBFA;\n",
              "      box-shadow: 0px 1px 2px rgba(60, 64, 67, 0.3), 0px 1px 3px 1px rgba(60, 64, 67, 0.15);\n",
              "      fill: #174EA6;\n",
              "    }\n",
              "\n",
              "    [theme=dark] .colab-df-convert {\n",
              "      background-color: #3B4455;\n",
              "      fill: #D2E3FC;\n",
              "    }\n",
              "\n",
              "    [theme=dark] .colab-df-convert:hover {\n",
              "      background-color: #434B5C;\n",
              "      box-shadow: 0px 1px 3px 1px rgba(0, 0, 0, 0.15);\n",
              "      filter: drop-shadow(0px 1px 2px rgba(0, 0, 0, 0.3));\n",
              "      fill: #FFFFFF;\n",
              "    }\n",
              "  </style>\n",
              "\n",
              "      <script>\n",
              "        const buttonEl =\n",
              "          document.querySelector('#df-83e47f69-4619-4c83-a3da-b4b9ce4350af button.colab-df-convert');\n",
              "        buttonEl.style.display =\n",
              "          google.colab.kernel.accessAllowed ? 'block' : 'none';\n",
              "\n",
              "        async function convertToInteractive(key) {\n",
              "          const element = document.querySelector('#df-83e47f69-4619-4c83-a3da-b4b9ce4350af');\n",
              "          const dataTable =\n",
              "            await google.colab.kernel.invokeFunction('convertToInteractive',\n",
              "                                                     [key], {});\n",
              "          if (!dataTable) return;\n",
              "\n",
              "          const docLinkHtml = 'Like what you see? Visit the ' +\n",
              "            '<a target=\"_blank\" href=https://colab.research.google.com/notebooks/data_table.ipynb>data table notebook</a>'\n",
              "            + ' to learn more about interactive tables.';\n",
              "          element.innerHTML = '';\n",
              "          dataTable['output_type'] = 'display_data';\n",
              "          await google.colab.output.renderOutput(dataTable, element);\n",
              "          const docLink = document.createElement('div');\n",
              "          docLink.innerHTML = docLinkHtml;\n",
              "          element.appendChild(docLink);\n",
              "        }\n",
              "      </script>\n",
              "    </div>\n",
              "  </div>\n",
              "  "
            ]
          },
          "metadata": {},
          "execution_count": 31
        }
      ]
    },
    {
      "cell_type": "code",
      "source": [
        "vit16_stats['avg_time'] = round(vit16_preds_df.time_taken.mean(), 5)"
      ],
      "metadata": {
        "id": "_L863vf5ym1c"
      },
      "execution_count": null,
      "outputs": []
    },
    {
      "cell_type": "code",
      "source": [
        "df = pd.DataFrame([effnetb2_stats, vit16_stats])\n",
        "df[\"model\"] = [\"EffNetB2\", \"ViT\"]\n",
        "df[\"test_acc\"] = round(df[\"test_acc\"] * 100, 2)\n",
        "df[\"test_loss\"] = list(map(lambda n: round(n.item(), 4), df['test_loss']))\n",
        "\n",
        "df"
      ],
      "metadata": {
        "colab": {
          "base_uri": "https://localhost:8080/",
          "height": 112
        },
        "id": "z1A76mD0yvS4",
        "outputId": "13bbe67d-373c-47c4-eaf5-8239ca7f4467"
      },
      "execution_count": null,
      "outputs": [
        {
          "output_type": "execute_result",
          "data": {
            "text/plain": [
              "   test_loss  test_acc  num_param  model_size  avg_time     model\n",
              "0     0.2809     96.88    7705221       29.83   0.03916  EffNetB2\n",
              "1     0.0640    100.00   85800963      327.35   0.02328       ViT"
            ],
            "text/html": [
              "\n",
              "  <div id=\"df-71533d55-6f36-46d4-bd04-39edd93790f7\">\n",
              "    <div class=\"colab-df-container\">\n",
              "      <div>\n",
              "<style scoped>\n",
              "    .dataframe tbody tr th:only-of-type {\n",
              "        vertical-align: middle;\n",
              "    }\n",
              "\n",
              "    .dataframe tbody tr th {\n",
              "        vertical-align: top;\n",
              "    }\n",
              "\n",
              "    .dataframe thead th {\n",
              "        text-align: right;\n",
              "    }\n",
              "</style>\n",
              "<table border=\"1\" class=\"dataframe\">\n",
              "  <thead>\n",
              "    <tr style=\"text-align: right;\">\n",
              "      <th></th>\n",
              "      <th>test_loss</th>\n",
              "      <th>test_acc</th>\n",
              "      <th>num_param</th>\n",
              "      <th>model_size</th>\n",
              "      <th>avg_time</th>\n",
              "      <th>model</th>\n",
              "    </tr>\n",
              "  </thead>\n",
              "  <tbody>\n",
              "    <tr>\n",
              "      <th>0</th>\n",
              "      <td>0.2809</td>\n",
              "      <td>96.88</td>\n",
              "      <td>7705221</td>\n",
              "      <td>29.83</td>\n",
              "      <td>0.03916</td>\n",
              "      <td>EffNetB2</td>\n",
              "    </tr>\n",
              "    <tr>\n",
              "      <th>1</th>\n",
              "      <td>0.0640</td>\n",
              "      <td>100.00</td>\n",
              "      <td>85800963</td>\n",
              "      <td>327.35</td>\n",
              "      <td>0.02328</td>\n",
              "      <td>ViT</td>\n",
              "    </tr>\n",
              "  </tbody>\n",
              "</table>\n",
              "</div>\n",
              "      <button class=\"colab-df-convert\" onclick=\"convertToInteractive('df-71533d55-6f36-46d4-bd04-39edd93790f7')\"\n",
              "              title=\"Convert this dataframe to an interactive table.\"\n",
              "              style=\"display:none;\">\n",
              "        \n",
              "  <svg xmlns=\"http://www.w3.org/2000/svg\" height=\"24px\"viewBox=\"0 0 24 24\"\n",
              "       width=\"24px\">\n",
              "    <path d=\"M0 0h24v24H0V0z\" fill=\"none\"/>\n",
              "    <path d=\"M18.56 5.44l.94 2.06.94-2.06 2.06-.94-2.06-.94-.94-2.06-.94 2.06-2.06.94zm-11 1L8.5 8.5l.94-2.06 2.06-.94-2.06-.94L8.5 2.5l-.94 2.06-2.06.94zm10 10l.94 2.06.94-2.06 2.06-.94-2.06-.94-.94-2.06-.94 2.06-2.06.94z\"/><path d=\"M17.41 7.96l-1.37-1.37c-.4-.4-.92-.59-1.43-.59-.52 0-1.04.2-1.43.59L10.3 9.45l-7.72 7.72c-.78.78-.78 2.05 0 2.83L4 21.41c.39.39.9.59 1.41.59.51 0 1.02-.2 1.41-.59l7.78-7.78 2.81-2.81c.8-.78.8-2.07 0-2.86zM5.41 20L4 18.59l7.72-7.72 1.47 1.35L5.41 20z\"/>\n",
              "  </svg>\n",
              "      </button>\n",
              "      \n",
              "  <style>\n",
              "    .colab-df-container {\n",
              "      display:flex;\n",
              "      flex-wrap:wrap;\n",
              "      gap: 12px;\n",
              "    }\n",
              "\n",
              "    .colab-df-convert {\n",
              "      background-color: #E8F0FE;\n",
              "      border: none;\n",
              "      border-radius: 50%;\n",
              "      cursor: pointer;\n",
              "      display: none;\n",
              "      fill: #1967D2;\n",
              "      height: 32px;\n",
              "      padding: 0 0 0 0;\n",
              "      width: 32px;\n",
              "    }\n",
              "\n",
              "    .colab-df-convert:hover {\n",
              "      background-color: #E2EBFA;\n",
              "      box-shadow: 0px 1px 2px rgba(60, 64, 67, 0.3), 0px 1px 3px 1px rgba(60, 64, 67, 0.15);\n",
              "      fill: #174EA6;\n",
              "    }\n",
              "\n",
              "    [theme=dark] .colab-df-convert {\n",
              "      background-color: #3B4455;\n",
              "      fill: #D2E3FC;\n",
              "    }\n",
              "\n",
              "    [theme=dark] .colab-df-convert:hover {\n",
              "      background-color: #434B5C;\n",
              "      box-shadow: 0px 1px 3px 1px rgba(0, 0, 0, 0.15);\n",
              "      filter: drop-shadow(0px 1px 2px rgba(0, 0, 0, 0.3));\n",
              "      fill: #FFFFFF;\n",
              "    }\n",
              "  </style>\n",
              "\n",
              "      <script>\n",
              "        const buttonEl =\n",
              "          document.querySelector('#df-71533d55-6f36-46d4-bd04-39edd93790f7 button.colab-df-convert');\n",
              "        buttonEl.style.display =\n",
              "          google.colab.kernel.accessAllowed ? 'block' : 'none';\n",
              "\n",
              "        async function convertToInteractive(key) {\n",
              "          const element = document.querySelector('#df-71533d55-6f36-46d4-bd04-39edd93790f7');\n",
              "          const dataTable =\n",
              "            await google.colab.kernel.invokeFunction('convertToInteractive',\n",
              "                                                     [key], {});\n",
              "          if (!dataTable) return;\n",
              "\n",
              "          const docLinkHtml = 'Like what you see? Visit the ' +\n",
              "            '<a target=\"_blank\" href=https://colab.research.google.com/notebooks/data_table.ipynb>data table notebook</a>'\n",
              "            + ' to learn more about interactive tables.';\n",
              "          element.innerHTML = '';\n",
              "          dataTable['output_type'] = 'display_data';\n",
              "          await google.colab.output.renderOutput(dataTable, element);\n",
              "          const docLink = document.createElement('div');\n",
              "          docLink.innerHTML = docLinkHtml;\n",
              "          element.appendChild(docLink);\n",
              "        }\n",
              "      </script>\n",
              "    </div>\n",
              "  </div>\n",
              "  "
            ]
          },
          "metadata": {},
          "execution_count": 69
        }
      ]
    },
    {
      "cell_type": "code",
      "source": [
        "fig, ax = plt.subplots(figsize=(12, 8))\n",
        "scatter = ax.scatter(data=df, \n",
        "                     x=\"avg_time\", \n",
        "                     y=\"test_acc\", \n",
        "                     c=[\"blue\", \"orange\"],\n",
        "                     s='model_size') # size the dots by the model sizes\n",
        "\n",
        "ax.set_title(\"FoodVision Mini Inference Speed vs Performance\", fontsize=18)\n",
        "ax.set_xlabel(\"Prediction time per image (seconds)\", fontsize=14)\n",
        "ax.set_ylabel(\"Test accuracy (%)\", fontsize=14)\n",
        "ax.tick_params(axis='both', labelsize=12)\n",
        "ax.grid(True)\n",
        "\n",
        "for index, row in df.iterrows():\n",
        "    ax.annotate(text=row[\"model\"], \n",
        "                xy=(row[\"avg_time\"]+0.0006, row[\"test_acc\"]+0.03),\n",
        "                size=12)\n",
        "\n",
        "handles, labels = scatter.legend_elements(prop=\"sizes\", alpha=0.5)\n",
        "model_size_legend = ax.legend(handles, \n",
        "                              labels, \n",
        "                              # loc=\"lower right\", \n",
        "                              title=\"Model size (MB)\",\n",
        "                              fontsize=12)\n",
        "\n",
        "plt.savefig(\"09-foodvision-mini-performance.jpg\")\n",
        "\n",
        "plt.show()"
      ],
      "metadata": {
        "colab": {
          "base_uri": "https://localhost:8080/",
          "height": 421
        },
        "id": "hICFcdACzPlZ",
        "outputId": "174b57fd-387b-44f4-fa86-dacce0042a17"
      },
      "execution_count": null,
      "outputs": [
        {
          "output_type": "display_data",
          "data": {
            "text/plain": [
              "<Figure size 864x576 with 1 Axes>"
            ],
            "image/png": "[encoded data removed]"
          },
          "metadata": {
            "needs_background": "light"
          }
        }
      ]
    },
    {
      "cell_type": "markdown",
      "source": [
        "## **Gradio** Deployment"
      ],
      "metadata": {
        "id": "0D3OZJrHcMLh"
      }
    },
    {
      "cell_type": "code",
      "source": [
        "# Put our model on CPU \n",
        "effnetb2 = effnetb2.cpu()"
      ],
      "metadata": {
        "id": "XR19KCTybUlT"
      },
      "execution_count": null,
      "outputs": []
    },
    {
      "cell_type": "code",
      "source": [
        "from typing import Tuple, Dict\n",
        "from timeit import default_timer as timer\n",
        "\n",
        "def predict(image) -> Tuple[Dict, float]:\n",
        "  # Start a timer\n",
        "  start = timer()\n",
        "  # Transform the Image\n",
        "  image = effnetb2_transforms(image).unsqueeze(dim=0)\n",
        "  # Make Prediction\n",
        "  effnetb2.eval()\n",
        "  with torch.inference_mode():\n",
        "    pred_logits = effnetb2(image)\n",
        "    pred_prob = torch.softmax(pred_logits, dim=1)\n",
        "\n",
        "  # Stop the timer\n",
        "  time = round(timer()-start, 4)\n",
        "\n",
        "  # Get Dict of all Predictions\n",
        "  output_dict = {class_names[i]: round(pred_prob[0][i].item(), 2) for i in range(len(class_names)) }\n",
        "\n",
        "  # return time and all the predictions dict\n",
        "  return output_dict, time"
      ],
      "metadata": {
        "id": "SKIsfW5tdcjS"
      },
      "execution_count": null,
      "outputs": []
    },
    {
      "cell_type": "code",
      "source": [
        "import random\n",
        "\n",
        "path = random.choice(test_data_paths)\n",
        "image = Image.open(path)\n",
        "\n",
        "prediction_outputs = predict(image)\n",
        "prediction_outputs"
      ],
      "metadata": {
        "colab": {
          "base_uri": "https://localhost:8080/"
        },
        "id": "_c8thbfkekLQ",
        "outputId": "02a8398a-3aa4-4d3d-eb5d-2ee160763d02"
      },
      "execution_count": null,
      "outputs": [
        {
          "output_type": "execute_result",
          "data": {
            "text/plain": [
              "({'pizza': 0.04, 'steak': 0.8, 'sushi': 0.16}, 0.1169)"
            ]
          },
          "metadata": {},
          "execution_count": 112
        }
      ]
    },
    {
      "cell_type": "code",
      "source": [
        "import gradio as gr\n",
        "\n",
        "examples = [random.choice(list(test_dir.glob(f\"{i}/*.jpg\"))) for i in class_names]\n",
        "\n",
        "title = \"FoodVisionMini\"\n",
        "description = \"Something Something Something...\"\n",
        "article = \"cheack out gauravreddy008 on GitHub\"\n",
        "\n",
        "demo = gr.Interface(fn=predict, \n",
        "                    inputs=gr.Image(type='pil'),\n",
        "                    outputs=[gr.Label(num_top_classes=3, label=\"Predictions\"),\n",
        "                             gr.Number(label=\"Prediction time (s)\")],\n",
        "                    title=title,\n",
        "                    description=description,\n",
        "                    article=article,\n",
        "                    examples=examples)\n",
        "\n",
        "demo.launch(debug=False, \n",
        "            share=True)"
      ],
      "metadata": {
        "id": "J2X7zj-IhB_V"
      },
      "execution_count": null,
      "outputs": []
    },
    {
      "cell_type": "code",
      "source": [
        "import shutil\n",
        "from pathlib import Path\n",
        "\n",
        "main_directory = Path(\"demos/foodvisionmini\")\n",
        "\n",
        "if main_directory.exists():\n",
        "  shutil.rmtree(main_directory)\n",
        "  main_directory.mkdir(parents=True, exist_ok=True)\n",
        "else: \n",
        "  main_directory.mkdir(parents=True, exist_ok=True)\n",
        "\n",
        "examples = [random.choice(list(test_dir.glob(f\"{i}/*.jpg\"))) for i in class_names]\n",
        "examples_path = main_directory / 'examples'\n",
        "examples_path.mkdir(parents=True, exist_ok=True)\n",
        "for i in examples:\n",
        "  destination = examples_path / i.name\n",
        "  shutil.copy2(src=i, dst=destination)\n",
        "\n",
        "shutil.copy2('effnetb2.pth', main_directory/'effnetb2.pth')"
      ],
      "metadata": {
        "colab": {
          "base_uri": "https://localhost:8080/"
        },
        "id": "oKYhAdCdjPCU",
        "outputId": "c315c93f-76ce-4696-bc23-131337d5cf9b"
      },
      "execution_count": null,
      "outputs": [
        {
          "output_type": "execute_result",
          "data": {
            "text/plain": [
              "PosixPath('demos/foodvisionmini/effnetb2.pth')"
            ]
          },
          "metadata": {},
          "execution_count": 121
        }
      ]
    },
    {
      "cell_type": "code",
      "source": [
        "%%writefile /content/demos/foodvisionmini/model.py\n",
        "\n",
        "from torch import nn\n",
        "import torchvision \n",
        "\n",
        "SEED = 42 \n",
        "def create_model(num_classes):\n",
        "\n",
        "  effnetb2_weights = torchvision.models.EfficientNet_B2_Weights.DEFAULT\n",
        "  effnetb2_transforms = effnetb2_weights.transforms()\n",
        "\n",
        "  effnetb2 = torchvision.models.efficientnet_b2(weights=effnetb2_weights).to(device)\n",
        "\n",
        "  for param in effnetb2.parameters():\n",
        "    param.requires_grad = False\n",
        "\n",
        "  torch.manual_seed(SEED)\n",
        "  torch.cuda.manual_seed(SEED)\n",
        "\n",
        "  effnetb2.classifier = nn.Sequential(\n",
        "      nn.Dropout(p=0.3, inplace=True),\n",
        "      nn.Linear(in_features = 1408, out_features=num_classes))\n",
        "\n",
        "  return effnetb2, effnetb2_transforms"
      ],
      "metadata": {
        "colab": {
          "base_uri": "https://localhost:8080/"
        },
        "id": "20lboZ2swJMl",
        "outputId": "b6215124-68c5-4d09-beb0-13e3557a474b"
      },
      "execution_count": null,
      "outputs": [
        {
          "output_type": "stream",
          "name": "stdout",
          "text": [
            "Overwriting /content/demos/foodvisionmini/model.py\n"
          ]
        }
      ]
    },
    {
      "cell_type": "code",
      "source": [
        "%%writefile /content/demos/foodvisionmini/app.py\n",
        "import os\n",
        "import gradio as gr\n",
        "import torch\n",
        "\n",
        "from model import create_model\n",
        "from timeit import default_timer as timer\n",
        "from typing import Tuple, Dict\n",
        "\n",
        "example_list = [[\"examples/\" + i] for i in os.listdir('examples')]\n",
        "class_names = ['pizza', 'steak', 'sushi']\n",
        "\n",
        "model, transforms = create_model(num_classes=3)\n",
        "model.load_saved_dict('effnetb2.pth', \n",
        "                      map_location=torch.device('cpu'))\n",
        "\n",
        "def predict(image) -> Tuple[Dict, float]:\n",
        "  start = timer()\n",
        "\n",
        "  image = transforms(image).unsqueeze(dim=0)\n",
        "  model.eval()\n",
        "  with torch.inference_mode():\n",
        "    pred_logits = model(image)\n",
        "    pred_prob = torch.softmax(pred_logits, dim=1)\n",
        "\n",
        "  time = round(timer()-start, 4)\n",
        "  output_dict = {class_names[i]: round(pred_prob[0][i].item(), 2) for i in range(len(class_names))}\n",
        "\n",
        "  return output_dict, time\n",
        "\n",
        "title = \"FoodVision(mini)\"\n",
        "description = \"# Something Something Something...\"\n",
        "article = \"check out gauravreddy08 on GitHub\"\n",
        "\n",
        "demo = gr.Interface(fn=predict, \n",
        "                    inputs=gr.Image(type='pil'),\n",
        "                    outputs=[gr.Label(num_top_classes=3, label=\"Predictions\"),\n",
        "                             gr.Number(label=\"Prediction time (s)\")],\n",
        "                    title=title,\n",
        "                    description=description,\n",
        "                    article=article,\n",
        "                    examples=example_list)\n",
        "\n",
        "\n",
        "demo.launch()"
      ],
      "metadata": {
        "colab": {
          "base_uri": "https://localhost:8080/"
        },
        "id": "R16m6-5twKSB",
        "outputId": "b19393e9-45ac-4e33-b05a-3aed9a552ba6"
      },
      "execution_count": null,
      "outputs": [
        {
          "output_type": "stream",
          "name": "stdout",
          "text": [
            "Writing /content/demos/foodvisionmini/app.py\n"
          ]
        }
      ]
    },
    {
      "cell_type": "code",
      "source": [
        "%%writefile /content/demos/foodvisionmini/requirements.txt\n",
        "torchvision==0.14.1\n",
        "torch==1.13.1\n",
        "gradio=3.20.0"
      ],
      "metadata": {
        "colab": {
          "base_uri": "https://localhost:8080/"
        },
        "id": "W-6IsVjY1hJX",
        "outputId": "013c635d-bbfd-485a-c964-8449c82aa537"
      },
      "execution_count": null,
      "outputs": [
        {
          "output_type": "stream",
          "name": "stdout",
          "text": [
            "Writing /content/demos/foodvisionmini/requirements.txt\n"
          ]
        }
      ]
    }
  ]
}