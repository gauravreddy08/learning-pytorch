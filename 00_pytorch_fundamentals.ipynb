{
  "nbformat": 4,
  "nbformat_minor": 0,
  "metadata": {
    "colab": {
      "provenance": [],
      "authorship_tag": "ABX9TyNHLGUYyz8isa2xwgXe7lEn",
      "include_colab_link": true
    },
    "kernelspec": {
      "name": "python3",
      "display_name": "Python 3"
    },
    "language_info": {
      "name": "python"
    },
    "accelerator": "GPU",
    "gpuClass": "standard"
  },
  "cells": [
    {
      "cell_type": "markdown",
      "metadata": {
        "id": "view-in-github",
        "colab_type": "text"
      },
      "source": [
        "<a href=\"https://colab.research.google.com/github/gauravreddy08/learning-pytorch/blob/main/00_pytorch_fundamentals.ipynb\" target=\"_parent\"><img src=\"https://colab.research.google.com/assets/colab-badge.svg\" alt=\"Open In Colab\"/></a>"
      ]
    },
    {
      "cell_type": "markdown",
      "source": [
        "# 00 | **PyTorch** Fundamentals \n",
        "\n",
        "https://github.com/gauravreddy08/learning-pytorch"
      ],
      "metadata": {
        "id": "wSBQTnbO45Bs"
      }
    },
    {
      "cell_type": "code",
      "execution_count": 1,
      "metadata": {
        "id": "9aIB3ElFwBGc"
      },
      "outputs": [],
      "source": [
        "import torch\n",
        "import pandas as pd\n",
        "import numpy as np\n",
        "import matplotlib.pyplot as plt"
      ]
    },
    {
      "cell_type": "code",
      "source": [
        "!nvidia-smi -L"
      ],
      "metadata": {
        "colab": {
          "base_uri": "https://localhost:8080/"
        },
        "id": "_96ME5y45UwX",
        "outputId": "970c4ac3-f37e-4b0a-afdc-f322d6b7df12"
      },
      "execution_count": 2,
      "outputs": [
        {
          "output_type": "stream",
          "name": "stdout",
          "text": [
            "GPU 0: Tesla T4 (UUID: GPU-5bec794a-9d71-adc4-0632-81639a4c954e)\n"
          ]
        }
      ]
    },
    {
      "cell_type": "markdown",
      "source": [
        "## Introduction to **tensors**\n",
        "### Creating **tensors**"
      ],
      "metadata": {
        "id": "Xiko5UE75gN_"
      }
    },
    {
      "cell_type": "code",
      "source": [
        "# scalar\n",
        "scalar = torch.tensor(7)\n",
        "scalar, scalar.ndim, scalar.item()"
      ],
      "metadata": {
        "colab": {
          "base_uri": "https://localhost:8080/"
        },
        "id": "SAyUiidP5cc0",
        "outputId": "7f55ab75-d8b3-49b7-d6eb-f352438b133a"
      },
      "execution_count": 3,
      "outputs": [
        {
          "output_type": "execute_result",
          "data": {
            "text/plain": [
              "(tensor(7), 0, 7)"
            ]
          },
          "metadata": {},
          "execution_count": 3
        }
      ]
    },
    {
      "cell_type": "code",
      "source": [
        "# vector\n",
        "vector = torch.tensor([4, 2])\n",
        "vector, vector.shape, vector.ndim"
      ],
      "metadata": {
        "colab": {
          "base_uri": "https://localhost:8080/"
        },
        "id": "fC9ox5-j5_uQ",
        "outputId": "9d8f46ac-5bda-4db3-b9e1-3e912f5f1075"
      },
      "execution_count": 4,
      "outputs": [
        {
          "output_type": "execute_result",
          "data": {
            "text/plain": [
              "(tensor([4, 2]), torch.Size([2]), 1)"
            ]
          },
          "metadata": {},
          "execution_count": 4
        }
      ]
    },
    {
      "cell_type": "code",
      "source": [
        "# matrix\n",
        "matrix = torch.tensor([[4, 2],\n",
        "                       [2, 4]])\n",
        "matrix, matrix.shape, matrix.ndim"
      ],
      "metadata": {
        "colab": {
          "base_uri": "https://localhost:8080/"
        },
        "id": "LHVyXBK96KBm",
        "outputId": "d9737b54-7421-4678-c5d8-b0c02d2ebb32"
      },
      "execution_count": 5,
      "outputs": [
        {
          "output_type": "execute_result",
          "data": {
            "text/plain": [
              "(tensor([[4, 2],\n",
              "         [2, 4]]), torch.Size([2, 2]), 2)"
            ]
          },
          "metadata": {},
          "execution_count": 5
        }
      ]
    },
    {
      "cell_type": "code",
      "source": [
        "# tensor\n",
        "tensor = torch.tensor([[[1, 2, 3],\n",
        "                        [3, 6, 8]]])\n",
        "tensor, tensor.shape, tensor.ndim"
      ],
      "metadata": {
        "colab": {
          "base_uri": "https://localhost:8080/"
        },
        "id": "_ELAj4-B6Zad",
        "outputId": "0c7b3f3b-e499-43f5-ba42-71f5935f02a5"
      },
      "execution_count": 6,
      "outputs": [
        {
          "output_type": "execute_result",
          "data": {
            "text/plain": [
              "(tensor([[[1, 2, 3],\n",
              "          [3, 6, 8]]]), torch.Size([1, 2, 3]), 3)"
            ]
          },
          "metadata": {},
          "execution_count": 6
        }
      ]
    },
    {
      "cell_type": "code",
      "source": [
        "tensor[0][0]"
      ],
      "metadata": {
        "colab": {
          "base_uri": "https://localhost:8080/"
        },
        "id": "nDf9e6-B6sgg",
        "outputId": "e64eba5e-20bf-4a99-da7f-e0ae2d460149"
      },
      "execution_count": 7,
      "outputs": [
        {
          "output_type": "execute_result",
          "data": {
            "text/plain": [
              "tensor([1, 2, 3])"
            ]
          },
          "metadata": {},
          "execution_count": 7
        }
      ]
    },
    {
      "cell_type": "markdown",
      "source": [
        "### Random **tensors**\n",
        "\n",
        "cause everything is random :)"
      ],
      "metadata": {
        "id": "mTu8v5zG7OeU"
      }
    },
    {
      "cell_type": "code",
      "source": [
        "random_tensor = torch.rand(1, 1, 1, 1, 1, 1, 1, 1, 3, 4)\n",
        "random_tensor, random_tensor.dtype"
      ],
      "metadata": {
        "colab": {
          "base_uri": "https://localhost:8080/"
        },
        "id": "BhoJQneR6wfr",
        "outputId": "aaa800fe-1f9e-43be-ea66-ad8f0fad09e1"
      },
      "execution_count": 8,
      "outputs": [
        {
          "output_type": "execute_result",
          "data": {
            "text/plain": [
              "(tensor([[[[[[[[[[0.7789, 0.4951, 0.2321, 0.8122],\n",
              "                 [0.9581, 0.6903, 0.2808, 0.5025],\n",
              "                 [0.2728, 0.2151, 0.5902, 0.1126]]]]]]]]]]), torch.float32)"
            ]
          },
          "metadata": {},
          "execution_count": 8
        }
      ]
    },
    {
      "cell_type": "code",
      "source": [
        "torch.arange(0, 10)"
      ],
      "metadata": {
        "colab": {
          "base_uri": "https://localhost:8080/"
        },
        "id": "6v_GoeXL8aeQ",
        "outputId": "900504f3-89a5-4936-bb45-ded4e2c08b0f"
      },
      "execution_count": 9,
      "outputs": [
        {
          "output_type": "execute_result",
          "data": {
            "text/plain": [
              "tensor([0, 1, 2, 3, 4, 5, 6, 7, 8, 9])"
            ]
          },
          "metadata": {},
          "execution_count": 9
        }
      ]
    },
    {
      "cell_type": "code",
      "source": [
        "tensor = torch.tensor([1, 5, 9], \n",
        "                      dtype=torch.float16, \n",
        "                      requires_grad=False)\n",
        "tensor, tensor.device"
      ],
      "metadata": {
        "colab": {
          "base_uri": "https://localhost:8080/"
        },
        "id": "ICGJushq8jiG",
        "outputId": "024a29ad-22b2-4470-cf65-8097d65d78ec"
      },
      "execution_count": 10,
      "outputs": [
        {
          "output_type": "execute_result",
          "data": {
            "text/plain": [
              "(tensor([1., 5., 9.], dtype=torch.float16), device(type='cpu'))"
            ]
          },
          "metadata": {},
          "execution_count": 10
        }
      ]
    },
    {
      "cell_type": "markdown",
      "source": [
        "### Manipulating **tensors**"
      ],
      "metadata": {
        "id": "aH11VwGc-jmv"
      }
    },
    {
      "cell_type": "code",
      "source": [
        "tensor+3, torch.add(tensor, 3)"
      ],
      "metadata": {
        "colab": {
          "base_uri": "https://localhost:8080/"
        },
        "id": "BTFHDPJ591Ko",
        "outputId": "e5dff2dc-685f-404f-f91f-a02fb2966345"
      },
      "execution_count": 11,
      "outputs": [
        {
          "output_type": "execute_result",
          "data": {
            "text/plain": [
              "(tensor([ 4.,  8., 12.], dtype=torch.float16),\n",
              " tensor([ 4.,  8., 12.], dtype=torch.float16))"
            ]
          },
          "metadata": {},
          "execution_count": 11
        }
      ]
    },
    {
      "cell_type": "code",
      "source": [
        "tensor-23, torch.subtract(tensor, 23)"
      ],
      "metadata": {
        "colab": {
          "base_uri": "https://localhost:8080/"
        },
        "id": "W0IVYKR_-m7b",
        "outputId": "81dbf348-a04b-44cf-f56f-5d2d46e714b5"
      },
      "execution_count": 12,
      "outputs": [
        {
          "output_type": "execute_result",
          "data": {
            "text/plain": [
              "(tensor([-22., -18., -14.], dtype=torch.float16),\n",
              " tensor([-22., -18., -14.], dtype=torch.float16))"
            ]
          },
          "metadata": {},
          "execution_count": 12
        }
      ]
    },
    {
      "cell_type": "code",
      "source": [
        "tensor*3, torch.mul(tensor, 3)"
      ],
      "metadata": {
        "colab": {
          "base_uri": "https://localhost:8080/"
        },
        "id": "a3Exi7rp-sPH",
        "outputId": "e57327ab-e99a-4648-9a43-2ba42bedae9d"
      },
      "execution_count": 13,
      "outputs": [
        {
          "output_type": "execute_result",
          "data": {
            "text/plain": [
              "(tensor([ 3., 15., 27.], dtype=torch.float16),\n",
              " tensor([ 3., 15., 27.], dtype=torch.float16))"
            ]
          },
          "metadata": {},
          "execution_count": 13
        }
      ]
    },
    {
      "cell_type": "code",
      "source": [
        "tensor/2, torch.divide(tensor, 2)"
      ],
      "metadata": {
        "colab": {
          "base_uri": "https://localhost:8080/"
        },
        "id": "MdBL7WNJ-tfX",
        "outputId": "f22902d0-c5dd-4e9f-9031-bdb84e8e6e91"
      },
      "execution_count": 14,
      "outputs": [
        {
          "output_type": "execute_result",
          "data": {
            "text/plain": [
              "(tensor([0.5000, 2.5000, 4.5000], dtype=torch.float16),\n",
              " tensor([0.5000, 2.5000, 4.5000], dtype=torch.float16))"
            ]
          },
          "metadata": {},
          "execution_count": 14
        }
      ]
    },
    {
      "cell_type": "markdown",
      "source": [
        "https://www.mathsisfun.com/algebra/matrix-multiplying.html"
      ],
      "metadata": {
        "id": "9OawTzE7_AR3"
      }
    },
    {
      "cell_type": "code",
      "source": [
        "matrix, matrix*20"
      ],
      "metadata": {
        "colab": {
          "base_uri": "https://localhost:8080/"
        },
        "id": "KjOwZrWD-va5",
        "outputId": "d43e22f2-e537-461d-b0b1-e90ccf6f5b5d"
      },
      "execution_count": 15,
      "outputs": [
        {
          "output_type": "execute_result",
          "data": {
            "text/plain": [
              "(tensor([[4, 2],\n",
              "         [2, 4]]), tensor([[80, 40],\n",
              "         [40, 80]]))"
            ]
          },
          "metadata": {},
          "execution_count": 15
        }
      ]
    },
    {
      "cell_type": "code",
      "source": [
        "matrix*(matrix*2)"
      ],
      "metadata": {
        "colab": {
          "base_uri": "https://localhost:8080/"
        },
        "id": "jgcc8ArD_EW0",
        "outputId": "2caf2409-48cd-4aec-e18d-e5ee77ae7dd2"
      },
      "execution_count": 16,
      "outputs": [
        {
          "output_type": "execute_result",
          "data": {
            "text/plain": [
              "tensor([[32,  8],\n",
              "        [ 8, 32]])"
            ]
          },
          "metadata": {},
          "execution_count": 16
        }
      ]
    },
    {
      "cell_type": "code",
      "source": [
        "vector, matrix, vector*matrix"
      ],
      "metadata": {
        "colab": {
          "base_uri": "https://localhost:8080/"
        },
        "id": "Nu0pEo2G_L3d",
        "outputId": "c6160423-4552-43de-9947-3b4565e8eafe"
      },
      "execution_count": 17,
      "outputs": [
        {
          "output_type": "execute_result",
          "data": {
            "text/plain": [
              "(tensor([4, 2]), tensor([[4, 2],\n",
              "         [2, 4]]), tensor([[16,  4],\n",
              "         [ 8,  8]]))"
            ]
          },
          "metadata": {},
          "execution_count": 17
        }
      ]
    },
    {
      "cell_type": "code",
      "source": [
        "vector @ matrix, torch.matmul(vector, matrix) # not dot product"
      ],
      "metadata": {
        "colab": {
          "base_uri": "https://localhost:8080/"
        },
        "id": "2rogkfXD_Twz",
        "outputId": "558f938c-8e32-4397-ff06-e4d72bd75d20"
      },
      "execution_count": 18,
      "outputs": [
        {
          "output_type": "execute_result",
          "data": {
            "text/plain": [
              "(tensor([20, 16]), tensor([20, 16]))"
            ]
          },
          "metadata": {},
          "execution_count": 18
        }
      ]
    },
    {
      "cell_type": "markdown",
      "source": [
        "http://matrixmultiplication.xyz/"
      ],
      "metadata": {
        "id": "A7yInOEvAt8K"
      }
    },
    {
      "cell_type": "markdown",
      "source": [
        "### **Tensor** aggregation"
      ],
      "metadata": {
        "id": "o6dZa1QfXcaC"
      }
    },
    {
      "cell_type": "code",
      "source": [
        "x = torch.arange(10)\n",
        "x"
      ],
      "metadata": {
        "colab": {
          "base_uri": "https://localhost:8080/"
        },
        "id": "qOZGNe8yXihb",
        "outputId": "936da1a3-0f3f-4aa2-e79f-bade8ee1a384"
      },
      "execution_count": 19,
      "outputs": [
        {
          "output_type": "execute_result",
          "data": {
            "text/plain": [
              "tensor([0, 1, 2, 3, 4, 5, 6, 7, 8, 9])"
            ]
          },
          "metadata": {},
          "execution_count": 19
        }
      ]
    },
    {
      "cell_type": "code",
      "source": [
        "x.type(torch.float16)"
      ],
      "metadata": {
        "colab": {
          "base_uri": "https://localhost:8080/"
        },
        "id": "y4Hzo2YGX4lY",
        "outputId": "591fec6e-4840-4b58-c380-cedd61823220"
      },
      "execution_count": 20,
      "outputs": [
        {
          "output_type": "execute_result",
          "data": {
            "text/plain": [
              "tensor([0., 1., 2., 3., 4., 5., 6., 7., 8., 9.], dtype=torch.float16)"
            ]
          },
          "metadata": {},
          "execution_count": 20
        }
      ]
    },
    {
      "cell_type": "code",
      "source": [
        "x.min(), torch.min(x)"
      ],
      "metadata": {
        "colab": {
          "base_uri": "https://localhost:8080/"
        },
        "id": "J7HR-ka4_rH8",
        "outputId": "7bdef55c-c7b9-4aea-b33d-28e64bffd4f4"
      },
      "execution_count": 21,
      "outputs": [
        {
          "output_type": "execute_result",
          "data": {
            "text/plain": [
              "(tensor(0), tensor(0))"
            ]
          },
          "metadata": {},
          "execution_count": 21
        }
      ]
    },
    {
      "cell_type": "code",
      "source": [
        "x.max(), torch.max(x)"
      ],
      "metadata": {
        "colab": {
          "base_uri": "https://localhost:8080/"
        },
        "id": "W1IcNeKyXx1n",
        "outputId": "c8df792d-62d0-499b-a5aa-7e7344a7f674"
      },
      "execution_count": 22,
      "outputs": [
        {
          "output_type": "execute_result",
          "data": {
            "text/plain": [
              "(tensor(9), tensor(9))"
            ]
          },
          "metadata": {},
          "execution_count": 22
        }
      ]
    },
    {
      "cell_type": "code",
      "source": [
        "x = x.type(torch.float16)\n",
        "\n",
        "x.mean(), torch.mean(x) # could not infer output dtype. Input dtype must be either a floating point or complex dtype. Got: Long"
      ],
      "metadata": {
        "colab": {
          "base_uri": "https://localhost:8080/"
        },
        "id": "xR6Aeg9cXyPH",
        "outputId": "ee863fe7-2829-444e-ece0-5011fb140812"
      },
      "execution_count": 23,
      "outputs": [
        {
          "output_type": "execute_result",
          "data": {
            "text/plain": [
              "(tensor(4.5000, dtype=torch.float16), tensor(4.5000, dtype=torch.float16))"
            ]
          },
          "metadata": {},
          "execution_count": 23
        }
      ]
    },
    {
      "cell_type": "code",
      "source": [
        "x.sum(), torch.sum(x)"
      ],
      "metadata": {
        "colab": {
          "base_uri": "https://localhost:8080/"
        },
        "id": "jvXyyg4iX0J7",
        "outputId": "ba6747f8-c8e0-4102-8e03-4b88bc569420"
      },
      "execution_count": 24,
      "outputs": [
        {
          "output_type": "execute_result",
          "data": {
            "text/plain": [
              "(tensor(45., dtype=torch.float16), tensor(45., dtype=torch.float16))"
            ]
          },
          "metadata": {},
          "execution_count": 24
        }
      ]
    },
    {
      "cell_type": "code",
      "source": [
        "x.argmin(), torch.argmin(x), x.argmax(), torch.argmax(x)"
      ],
      "metadata": {
        "colab": {
          "base_uri": "https://localhost:8080/"
        },
        "id": "SlIu6qGwYAhK",
        "outputId": "615d7180-ba98-4910-8056-00aa300a4935"
      },
      "execution_count": 25,
      "outputs": [
        {
          "output_type": "execute_result",
          "data": {
            "text/plain": [
              "(tensor(0), tensor(0), tensor(9), tensor(9))"
            ]
          },
          "metadata": {},
          "execution_count": 25
        }
      ]
    },
    {
      "cell_type": "code",
      "source": [
        "# Reshape \n",
        "\n",
        "x_reshaped = x.reshape(2,5)\n",
        "x_reshaped, x_reshaped.shape"
      ],
      "metadata": {
        "colab": {
          "base_uri": "https://localhost:8080/"
        },
        "id": "FHnzfNs5YHzk",
        "outputId": "2e0b82e4-5cb0-400c-d1cb-4b769a88322e"
      },
      "execution_count": 26,
      "outputs": [
        {
          "output_type": "execute_result",
          "data": {
            "text/plain": [
              "(tensor([[0., 1., 2., 3., 4.],\n",
              "         [5., 6., 7., 8., 9.]], dtype=torch.float16), torch.Size([2, 5]))"
            ]
          },
          "metadata": {},
          "execution_count": 26
        }
      ]
    },
    {
      "cell_type": "code",
      "source": [
        "# View\n",
        "z = x.view(2, 5)\n",
        "z[0, 1] = 123\n",
        "z, x # changing z --> changes x"
      ],
      "metadata": {
        "colab": {
          "base_uri": "https://localhost:8080/"
        },
        "id": "Srnvl9KbY4fN",
        "outputId": "86615aa5-cc52-4c6a-90bd-70feba5d46a6"
      },
      "execution_count": 27,
      "outputs": [
        {
          "output_type": "execute_result",
          "data": {
            "text/plain": [
              "(tensor([[  0., 123.,   2.,   3.,   4.],\n",
              "         [  5.,   6.,   7.,   8.,   9.]], dtype=torch.float16),\n",
              " tensor([  0., 123.,   2.,   3.,   4.,   5.,   6.,   7.,   8.,   9.],\n",
              "        dtype=torch.float16))"
            ]
          },
          "metadata": {},
          "execution_count": 27
        }
      ]
    },
    {
      "cell_type": "code",
      "source": [
        "# Stacking\n",
        "\n",
        "x_stacked = torch.stack([x, x, x, x], dim=1)\n",
        "x_stacked"
      ],
      "metadata": {
        "colab": {
          "base_uri": "https://localhost:8080/"
        },
        "id": "l5-cHS50Y5SV",
        "outputId": "975f02f5-a80c-4926-9a51-1d53e82d548a"
      },
      "execution_count": 28,
      "outputs": [
        {
          "output_type": "execute_result",
          "data": {
            "text/plain": [
              "tensor([[  0.,   0.,   0.,   0.],\n",
              "        [123., 123., 123., 123.],\n",
              "        [  2.,   2.,   2.,   2.],\n",
              "        [  3.,   3.,   3.,   3.],\n",
              "        [  4.,   4.,   4.,   4.],\n",
              "        [  5.,   5.,   5.,   5.],\n",
              "        [  6.,   6.,   6.,   6.],\n",
              "        [  7.,   7.,   7.,   7.],\n",
              "        [  8.,   8.,   8.,   8.],\n",
              "        [  9.,   9.,   9.,   9.]], dtype=torch.float16)"
            ]
          },
          "metadata": {},
          "execution_count": 28
        }
      ]
    },
    {
      "cell_type": "code",
      "source": [
        "x = torch.rand(1, 2, 3, 2)\n",
        "x"
      ],
      "metadata": {
        "colab": {
          "base_uri": "https://localhost:8080/"
        },
        "id": "B2EutZ-VbZ4r",
        "outputId": "5b9edb09-127a-4f4b-c9f8-46d320cb0e46"
      },
      "execution_count": 29,
      "outputs": [
        {
          "output_type": "execute_result",
          "data": {
            "text/plain": [
              "tensor([[[[0.4448, 0.6634],\n",
              "          [0.9926, 0.3367],\n",
              "          [0.9220, 0.2335]],\n",
              "\n",
              "         [[0.7106, 0.7215],\n",
              "          [0.3368, 0.8766],\n",
              "          [0.0091, 0.7520]]]])"
            ]
          },
          "metadata": {},
          "execution_count": 29
        }
      ]
    },
    {
      "cell_type": "code",
      "source": [
        "torch.unsqueeze(x, dim=3)"
      ],
      "metadata": {
        "colab": {
          "base_uri": "https://localhost:8080/"
        },
        "id": "UMoVolWhbi08",
        "outputId": "1262e589-c90b-4fa4-fb5e-a6fb52fa567f"
      },
      "execution_count": 30,
      "outputs": [
        {
          "output_type": "execute_result",
          "data": {
            "text/plain": [
              "tensor([[[[[0.4448, 0.6634]],\n",
              "\n",
              "          [[0.9926, 0.3367]],\n",
              "\n",
              "          [[0.9220, 0.2335]]],\n",
              "\n",
              "\n",
              "         [[[0.7106, 0.7215]],\n",
              "\n",
              "          [[0.3368, 0.8766]],\n",
              "\n",
              "          [[0.0091, 0.7520]]]]])"
            ]
          },
          "metadata": {},
          "execution_count": 30
        }
      ]
    },
    {
      "cell_type": "code",
      "source": [
        "# Permute\n",
        "\n",
        "x_img = torch.rand(size=(224, 224, 3))\n",
        "x_img.size(), x_img.permute((1, 2, 0)).size() # Rearrange the axis/dimensions"
      ],
      "metadata": {
        "colab": {
          "base_uri": "https://localhost:8080/"
        },
        "id": "3vkRYUPSY85z",
        "outputId": "646fd80f-210e-4dda-9813-68bc470930bf"
      },
      "execution_count": 31,
      "outputs": [
        {
          "output_type": "execute_result",
          "data": {
            "text/plain": [
              "(torch.Size([224, 224, 3]), torch.Size([224, 3, 224]))"
            ]
          },
          "metadata": {},
          "execution_count": 31
        }
      ]
    },
    {
      "cell_type": "markdown",
      "source": [
        "## **Pytorch** and NumPy"
      ],
      "metadata": {
        "id": "k-Qr8BezkTtY"
      }
    },
    {
      "cell_type": "code",
      "source": [
        "x, x.dtype"
      ],
      "metadata": {
        "colab": {
          "base_uri": "https://localhost:8080/"
        },
        "id": "Bwz8taLdjdDB",
        "outputId": "fdb60f8e-7c85-47df-a905-def25ae68b46"
      },
      "execution_count": 32,
      "outputs": [
        {
          "output_type": "execute_result",
          "data": {
            "text/plain": [
              "(tensor([[[[0.4448, 0.6634],\n",
              "           [0.9926, 0.3367],\n",
              "           [0.9220, 0.2335]],\n",
              " \n",
              "          [[0.7106, 0.7215],\n",
              "           [0.3368, 0.8766],\n",
              "           [0.0091, 0.7520]]]]), torch.float32)"
            ]
          },
          "metadata": {},
          "execution_count": 32
        }
      ]
    },
    {
      "cell_type": "code",
      "source": [
        "x_numpy = x.numpy()\n",
        "x_numpy"
      ],
      "metadata": {
        "colab": {
          "base_uri": "https://localhost:8080/"
        },
        "id": "Lpn5ho01ka0u",
        "outputId": "9548c029-a441-4262-87d7-00984281256c"
      },
      "execution_count": 33,
      "outputs": [
        {
          "output_type": "execute_result",
          "data": {
            "text/plain": [
              "array([[[[0.44477975, 0.6633965 ],\n",
              "         [0.9925507 , 0.33673126],\n",
              "         [0.92197573, 0.2334826 ]],\n",
              "\n",
              "        [[0.7106104 , 0.72149795],\n",
              "         [0.3367799 , 0.8765549 ],\n",
              "         [0.00908428, 0.75203943]]]], dtype=float32)"
            ]
          },
          "metadata": {},
          "execution_count": 33
        }
      ]
    },
    {
      "cell_type": "code",
      "source": [
        "x_from_numpy = torch.from_numpy(x_numpy)\n",
        "x_from_numpy, x_from_numpy.dtype"
      ],
      "metadata": {
        "colab": {
          "base_uri": "https://localhost:8080/"
        },
        "id": "zcigbPhLkchL",
        "outputId": "4d4a702c-69ce-46a6-9719-3dec18fea4ae"
      },
      "execution_count": 34,
      "outputs": [
        {
          "output_type": "execute_result",
          "data": {
            "text/plain": [
              "(tensor([[[[0.4448, 0.6634],\n",
              "           [0.9926, 0.3367],\n",
              "           [0.9220, 0.2335]],\n",
              " \n",
              "          [[0.7106, 0.7215],\n",
              "           [0.3368, 0.8766],\n",
              "           [0.0091, 0.7520]]]]), torch.float32)"
            ]
          },
          "metadata": {},
          "execution_count": 34
        }
      ]
    },
    {
      "cell_type": "markdown",
      "source": [
        "## Seeding the **randomness**"
      ],
      "metadata": {
        "id": "ywdunCxQlOJI"
      }
    },
    {
      "cell_type": "code",
      "source": [
        "torch.manual_seed(42)\n",
        "a = torch.rand(3, 4)\n",
        "\n",
        "torch.manual_seed(42)\n",
        "b = torch.rand(3, 4)\n",
        "\n",
        "a==b"
      ],
      "metadata": {
        "colab": {
          "base_uri": "https://localhost:8080/"
        },
        "id": "J21q6pL1ktBs",
        "outputId": "6ce67bcb-f578-49c8-f56e-ddc9fbc38eb8"
      },
      "execution_count": 35,
      "outputs": [
        {
          "output_type": "execute_result",
          "data": {
            "text/plain": [
              "tensor([[True, True, True, True],\n",
              "        [True, True, True, True],\n",
              "        [True, True, True, True]])"
            ]
          },
          "metadata": {},
          "execution_count": 35
        }
      ]
    },
    {
      "cell_type": "markdown",
      "source": [
        "## Accessing **PyTorch** by **GPU**"
      ],
      "metadata": {
        "id": "9dEfiowUm3v5"
      }
    },
    {
      "cell_type": "code",
      "source": [
        "torch.cuda.is_available()"
      ],
      "metadata": {
        "colab": {
          "base_uri": "https://localhost:8080/"
        },
        "id": "j2JHmLhulbB0",
        "outputId": "372a0dfa-2450-4f38-9493-340e41b33316"
      },
      "execution_count": 37,
      "outputs": [
        {
          "output_type": "execute_result",
          "data": {
            "text/plain": [
              "True"
            ]
          },
          "metadata": {},
          "execution_count": 37
        }
      ]
    },
    {
      "cell_type": "code",
      "source": [
        "device = 'cuda' if torch.cuda.is_available() else 'cpu'\n",
        "device"
      ],
      "metadata": {
        "colab": {
          "base_uri": "https://localhost:8080/",
          "height": 35
        },
        "id": "oS5vKvacmmFE",
        "outputId": "fdc1defb-fc73-4da4-858f-5c63bbc16110"
      },
      "execution_count": 38,
      "outputs": [
        {
          "output_type": "execute_result",
          "data": {
            "text/plain": [
              "'cuda'"
            ],
            "application/vnd.google.colaboratory.intrinsic+json": {
              "type": "string"
            }
          },
          "metadata": {},
          "execution_count": 38
        }
      ]
    },
    {
      "cell_type": "code",
      "source": [
        "torch.cuda.device_count()"
      ],
      "metadata": {
        "colab": {
          "base_uri": "https://localhost:8080/"
        },
        "id": "pA2tH10Kmu8a",
        "outputId": "b3a9289d-0508-45da-de12-ee69686d0872"
      },
      "execution_count": 40,
      "outputs": [
        {
          "output_type": "execute_result",
          "data": {
            "text/plain": [
              "1"
            ]
          },
          "metadata": {},
          "execution_count": 40
        }
      ]
    },
    {
      "cell_type": "markdown",
      "source": [
        "### Putting **tensors** on **GPU**"
      ],
      "metadata": {
        "id": "edO5PINcnJW-"
      }
    },
    {
      "cell_type": "code",
      "source": [
        "tensor"
      ],
      "metadata": {
        "colab": {
          "base_uri": "https://localhost:8080/"
        },
        "id": "fA9H8Ueqmz6Z",
        "outputId": "3b3b2eaa-c332-4319-b0e0-f956c71f0417"
      },
      "execution_count": 41,
      "outputs": [
        {
          "output_type": "execute_result",
          "data": {
            "text/plain": [
              "tensor([1., 5., 9.], dtype=torch.float16)"
            ]
          },
          "metadata": {},
          "execution_count": 41
        }
      ]
    },
    {
      "cell_type": "code",
      "source": [
        "tensor_on_gpu = tensor.to(device)tensor_on_gpu"
      ],
      "metadata": {
        "colab": {
          "base_uri": "https://localhost:8080/"
        },
        "id": "klMgEKXFnPp4",
        "outputId": "2a412059-34a3-4647-9508-ae35d09de78b"
      },
      "execution_count": 42,
      "outputs": [
        {
          "output_type": "execute_result",
          "data": {
            "text/plain": [
              "tensor([1., 5., 9.], device='cuda:0', dtype=torch.float16)"
            ]
          },
          "metadata": {},
          "execution_count": 42
        }
      ]
    },
    {
      "cell_type": "code",
      "source": [
        "# tensor_on_gpu.numpy() # Error\n",
        "tensor_on_gpu.cpu().numpy()"
      ],
      "metadata": {
        "colab": {
          "base_uri": "https://localhost:8080/"
        },
        "id": "Gbim4zUcnXDx",
        "outputId": "4b671421-5a53-458b-c226-b544788e7f34"
      },
      "execution_count": 45,
      "outputs": [
        {
          "output_type": "execute_result",
          "data": {
            "text/plain": [
              "array([1., 5., 9.], dtype=float16)"
            ]
          },
          "metadata": {},
          "execution_count": 45
        }
      ]
    },
    {
      "cell_type": "code",
      "source": [],
      "metadata": {
        "id": "rDDkzjYMnjHD"
      },
      "execution_count": null,
      "outputs": []
    }
  ]
}