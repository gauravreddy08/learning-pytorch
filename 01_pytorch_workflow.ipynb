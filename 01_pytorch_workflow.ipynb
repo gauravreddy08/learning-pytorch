{
  "nbformat": 4,
  "nbformat_minor": 0,
  "metadata": {
    "colab": {
      "provenance": [],
      "authorship_tag": "ABX9TyNL70alL0ny60TwLvOeSr6p",
      "include_colab_link": true
    },
    "kernelspec": {
      "name": "python3",
      "display_name": "Python 3"
    },
    "language_info": {
      "name": "python"
    },
    "gpuClass": "standard",
    "accelerator": "GPU"
  },
  "cells": [
    {
      "cell_type": "markdown",
      "metadata": {
        "id": "view-in-github",
        "colab_type": "text"
      },
      "source": [
        "<a href=\"https://colab.research.google.com/github/gauravreddy08/learning-pytorch/blob/main/01_pytorch_workflow.ipynb\" target=\"_parent\"><img src=\"https://colab.research.google.com/assets/colab-badge.svg\" alt=\"Open In Colab\"/></a>"
      ]
    },
    {
      "cell_type": "markdown",
      "source": [
        "# **PyTorch** workflow\n",
        "https://www.learnpytorch.io/"
      ],
      "metadata": {
        "id": "IWucjDsq-v3Z"
      }
    },
    {
      "cell_type": "code",
      "execution_count": 1,
      "metadata": {
        "id": "IbiOWfhr-SFJ"
      },
      "outputs": [],
      "source": [
        "import pandas as pd\n",
        "import numpy as np\n",
        "import matplotlib.pyplot as plt\n",
        "\n",
        "import torch\n",
        "from torch import nn"
      ]
    },
    {
      "cell_type": "code",
      "source": [
        "device = 'cuda' if torch.cuda.is_available() else 'cpu'\n",
        "print(f'Device: {device}')"
      ],
      "metadata": {
        "colab": {
          "base_uri": "https://localhost:8080/"
        },
        "id": "waf1i_mvY6Fz",
        "outputId": "8a163efb-8373-4fc7-f2fe-4eec5bc8d9f4"
      },
      "execution_count": 2,
      "outputs": [
        {
          "output_type": "stream",
          "name": "stdout",
          "text": [
            "Device: cuda\n"
          ]
        }
      ]
    },
    {
      "cell_type": "markdown",
      "source": [
        "## Getting **data** ready"
      ],
      "metadata": {
        "id": "bomG54Vb-uTp"
      }
    },
    {
      "cell_type": "code",
      "source": [
        "weight = 0.7\n",
        "bias = 0.3\n",
        "\n",
        "X = torch.arange(0, 1, 0.02).unsqueeze(dim=1)\n",
        "y = weight*(X) + bias\n",
        "\n",
        "X[:10], y[:10]"
      ],
      "metadata": {
        "colab": {
          "base_uri": "https://localhost:8080/"
        },
        "id": "L8SbhaiU-t3h",
        "outputId": "d1926f3a-8ead-41c9-aef6-64a14757e6a8"
      },
      "execution_count": 3,
      "outputs": [
        {
          "output_type": "execute_result",
          "data": {
            "text/plain": [
              "(tensor([[0.0000],\n",
              "         [0.0200],\n",
              "         [0.0400],\n",
              "         [0.0600],\n",
              "         [0.0800],\n",
              "         [0.1000],\n",
              "         [0.1200],\n",
              "         [0.1400],\n",
              "         [0.1600],\n",
              "         [0.1800]]), tensor([[0.3000],\n",
              "         [0.3140],\n",
              "         [0.3280],\n",
              "         [0.3420],\n",
              "         [0.3560],\n",
              "         [0.3700],\n",
              "         [0.3840],\n",
              "         [0.3980],\n",
              "         [0.4120],\n",
              "         [0.4260]]))"
            ]
          },
          "metadata": {},
          "execution_count": 3
        }
      ]
    },
    {
      "cell_type": "code",
      "source": [
        "X_train = X[:int(0.8*len(X))]\n",
        "X_test = X[int(0.8*len(X)):]\n",
        "\n",
        "y_train = y[:int(0.8*len(y))]\n",
        "y_test = y[int(0.8*len(y)):]"
      ],
      "metadata": {
        "id": "1wu16g7gZU83"
      },
      "execution_count": 4,
      "outputs": []
    },
    {
      "cell_type": "code",
      "source": [
        "# from sklearn.model_selection import train_test_split\n",
        "\n",
        "# X_train, X_test, y_train, y_test = train_test_split(X, y, test_size=0.2)\n",
        "# len(X_train), len(X_test), len(y_train), len(y_test)"
      ],
      "metadata": {
        "id": "VsSHMmk8CYsW"
      },
      "execution_count": 5,
      "outputs": []
    },
    {
      "cell_type": "code",
      "source": [
        "plt.figure(figsize=(10, 7))\n",
        "plt.scatter(X_train, y_train, s=4, label='train')\n",
        "plt.scatter(X_test, y_test, s=4, label='test')\n",
        "plt.legend();"
      ],
      "metadata": {
        "colab": {
          "base_uri": "https://localhost:8080/",
          "height": 428
        },
        "id": "mClMwc9g-gEB",
        "outputId": "d1a0af76-8d27-46de-ee8d-7be96c110413"
      },
      "execution_count": 6,
      "outputs": [
        {
          "output_type": "display_data",
          "data": {
            "text/plain": [
              "<Figure size 720x504 with 1 Axes>"
            ],
            "image/png": "[encoded data removed]"
          },
          "metadata": {
            "needs_background": "light"
          }
        }
      ]
    },
    {
      "cell_type": "markdown",
      "source": [
        "## Modeling **Linear Regression** inherting `nn.Module`"
      ],
      "metadata": {
        "id": "KcWV3cg47ySf"
      }
    },
    {
      "cell_type": "code",
      "source": [
        "class LinearRegressionModel(nn.Module):\n",
        "  def __init__(self):\n",
        "    super().__init__() # this will call the init from main class `Module`\n",
        "    \n",
        "    # Initiate random wieghts and bias\n",
        "    self.weights = nn.Parameter(torch.randn(1,\n",
        "                                            requires_grad=True,\n",
        "                                            dtype=torch.float))\n",
        "    self.bias = nn.Parameter(torch.randn(1,\n",
        "                                            requires_grad=True,\n",
        "                                            dtype=torch.float))\n",
        "    \n",
        "  def forward(self, x: torch.Tensor) -> torch.Tensor: # Overwriting main fowrad method\n",
        "    return self.weights * x + self.bias"
      ],
      "metadata": {
        "id": "iR3hy0KPCDFI"
      },
      "execution_count": 7,
      "outputs": []
    },
    {
      "cell_type": "code",
      "source": [
        "torch.manual_seed(42)\n",
        "\n",
        "model_0 = LinearRegressionModel()\n",
        "list(model_0.parameters())"
      ],
      "metadata": {
        "colab": {
          "base_uri": "https://localhost:8080/"
        },
        "id": "_HlqTy4Dbulg",
        "outputId": "13702f9c-8eb3-465f-f8f4-d0fe5fc1d693"
      },
      "execution_count": 8,
      "outputs": [
        {
          "output_type": "execute_result",
          "data": {
            "text/plain": [
              "[Parameter containing:\n",
              " tensor([0.3367], requires_grad=True), Parameter containing:\n",
              " tensor([0.1288], requires_grad=True)]"
            ]
          },
          "metadata": {},
          "execution_count": 8
        }
      ]
    },
    {
      "cell_type": "code",
      "source": [
        "with torch.inference_mode():\n",
        "  y_pred_in = model_0(X_train)\n",
        "\n",
        "plt.figure(figsize=(10, 7))\n",
        "plt.scatter(X_train, y_train, s=4, label='true')\n",
        "plt.scatter(X_train, y_pred_in, s=4, label='predicted')\n",
        "plt.legend();"
      ],
      "metadata": {
        "colab": {
          "base_uri": "https://localhost:8080/",
          "height": 428
        },
        "id": "mKFt3ElnG0uL",
        "outputId": "c708d881-65a3-496c-ded7-ccb0e5385fe4"
      },
      "execution_count": 9,
      "outputs": [
        {
          "output_type": "display_data",
          "data": {
            "text/plain": [
              "<Figure size 720x504 with 1 Axes>"
            ],
            "image/png": "[encoded data removed]"
          },
          "metadata": {
            "needs_background": "light"
          }
        }
      ]
    },
    {
      "cell_type": "markdown",
      "source": [
        "### Defining **loss** function and **optimizer**\n",
        "\n",
        "https://pytorch.org/docs/stable/nn.html#loss-functions"
      ],
      "metadata": {
        "id": "BDQZLV6L7_6H"
      }
    },
    {
      "cell_type": "code",
      "source": [
        "# setup the loss function\n",
        "loss_fn = nn.L1Loss() # mae\n",
        "\n",
        "# setup the optimizer\n",
        "optimizer = torch.optim.SGD(params=model_0.parameters(),\n",
        "                            lr=0.01)"
      ],
      "metadata": {
        "id": "BnX2-4E3cgW0"
      },
      "execution_count": 10,
      "outputs": []
    },
    {
      "cell_type": "markdown",
      "source": [
        "### Building the **training loop**\n",
        "\n",
        "```\n",
        "0. Loop through the data\n",
        "1. Forward pass (forward propagation)\n",
        "2. Calculate the loss\n",
        "3. Optimizer zero grad\n",
        "4. Loss backward (back propagation)\n",
        "5. Optimizer step\n",
        "```\n"
      ],
      "metadata": {
        "id": "VRWjIi489CsT"
      }
    },
    {
      "cell_type": "markdown",
      "source": [
        "https://pytorch.org/docs/stable/autograd.html"
      ],
      "metadata": {
        "id": "jwD7lFbSHXPD"
      }
    },
    {
      "cell_type": "code",
      "source": [
        "list(model_0.parameters())"
      ],
      "metadata": {
        "colab": {
          "base_uri": "https://localhost:8080/"
        },
        "id": "Il8Tbchc-Pf5",
        "outputId": "83d83d32-ecf1-400f-ccc3-a54fcf560c34"
      },
      "execution_count": 11,
      "outputs": [
        {
          "output_type": "execute_result",
          "data": {
            "text/plain": [
              "[Parameter containing:\n",
              " tensor([0.3367], requires_grad=True), Parameter containing:\n",
              " tensor([0.1288], requires_grad=True)]"
            ]
          },
          "metadata": {},
          "execution_count": 11
        }
      ]
    },
    {
      "cell_type": "code",
      "source": [
        "epochs = 150\n",
        "epoch_count = []\n",
        "loss_count = []\n",
        "train_loss_values = []\n",
        "\n",
        "for epoch in range(epochs):\n",
        "  model_0.train()\n",
        "\n",
        "  y_pred = model_0(X_train) # 1\n",
        "  loss = loss_fn(y_pred, y_train) # 2\n",
        "\n",
        "  optimizer.zero_grad() # 3\n",
        "  loss.backward() # 4\n",
        "  optimizer.step() # 5\n",
        "\n",
        "  # Testing \n",
        "  model_0.eval() \n",
        "  with torch.inference_mode():\n",
        "    test_pred = model_0(X_test)\n",
        "    test_loss = loss_fn(test_pred, y_test)\n",
        "  if epoch%10==0:\n",
        "    epoch_count.append(epoch)\n",
        "    loss_count.append(test_loss.detach().numpy())\n",
        "    train_loss_values.append(loss.detach().numpy())\n",
        "    print(f\"Epoch: {epoch} | Loss: {loss} | Test Loss: {test_loss}\")"
      ],
      "metadata": {
        "colab": {
          "base_uri": "https://localhost:8080/"
        },
        "id": "vthGfz9R8SKW",
        "outputId": "8674abe0-7288-45dc-f231-ba4afa4ca281"
      },
      "execution_count": 12,
      "outputs": [
        {
          "output_type": "stream",
          "name": "stdout",
          "text": [
            "Epoch: 0 | Loss: 0.31288138031959534 | Test Loss: 0.48106518387794495\n",
            "Epoch: 10 | Loss: 0.1976713240146637 | Test Loss: 0.3463551998138428\n",
            "Epoch: 20 | Loss: 0.08908725529909134 | Test Loss: 0.21729660034179688\n",
            "Epoch: 30 | Loss: 0.053148526698350906 | Test Loss: 0.14464017748832703\n",
            "Epoch: 40 | Loss: 0.04543796554207802 | Test Loss: 0.11360953003168106\n",
            "Epoch: 50 | Loss: 0.04167863354086876 | Test Loss: 0.09919948130846024\n",
            "Epoch: 60 | Loss: 0.03818932920694351 | Test Loss: 0.08886633068323135\n",
            "Epoch: 70 | Loss: 0.03476089984178543 | Test Loss: 0.0805937647819519\n",
            "Epoch: 80 | Loss: 0.03132382780313492 | Test Loss: 0.07232122868299484\n",
            "Epoch: 90 | Loss: 0.02788739837706089 | Test Loss: 0.06473556160926819\n",
            "Epoch: 100 | Loss: 0.024458957836031914 | Test Loss: 0.05646304413676262\n",
            "Epoch: 110 | Loss: 0.021020207554101944 | Test Loss: 0.04819049686193466\n",
            "Epoch: 120 | Loss: 0.01758546568453312 | Test Loss: 0.04060482233762741\n",
            "Epoch: 130 | Loss: 0.014155393466353416 | Test Loss: 0.03233227878808975\n",
            "Epoch: 140 | Loss: 0.010716589167714119 | Test Loss: 0.024059748277068138\n"
          ]
        }
      ]
    },
    {
      "cell_type": "code",
      "source": [
        "with torch.inference_mode():\n",
        "  y_pred = model_0(X_train)\n",
        "\n",
        "plt.figure(figsize=(10, 7))\n",
        "plt.scatter(X_train, y_train, s=4, label='true')\n",
        "plt.scatter(X_train, y_pred, s=4, label='predicted')\n",
        "plt.legend();"
      ],
      "metadata": {
        "colab": {
          "base_uri": "https://localhost:8080/",
          "height": 428
        },
        "id": "MOuEnxx_HODt",
        "outputId": "9faa0c1f-b8eb-406f-eb3f-e2cb8a41ffc0"
      },
      "execution_count": 13,
      "outputs": [
        {
          "output_type": "display_data",
          "data": {
            "text/plain": [
              "<Figure size 720x504 with 1 Axes>"
            ],
            "image/png": "[encoded data removed]"
          },
          "metadata": {
            "needs_background": "light"
          }
        }
      ]
    },
    {
      "cell_type": "code",
      "source": [
        "model_0.state_dict()"
      ],
      "metadata": {
        "colab": {
          "base_uri": "https://localhost:8080/"
        },
        "id": "2GzA5pAkEmkf",
        "outputId": "98b23315-0939-4981-835e-43295ec67e26"
      },
      "execution_count": 14,
      "outputs": [
        {
          "output_type": "execute_result",
          "data": {
            "text/plain": [
              "OrderedDict([('weights', tensor([0.6638])), ('bias', tensor([0.3153]))])"
            ]
          },
          "metadata": {},
          "execution_count": 14
        }
      ]
    },
    {
      "cell_type": "code",
      "source": [
        "plt.figure(figsize=(10, 7))\n",
        "plt.plot(epoch_count, loss_count, label='test loss')\n",
        "plt.plot(epoch_count, train_loss_values, label='train loss')\n",
        "plt.legend();"
      ],
      "metadata": {
        "colab": {
          "base_uri": "https://localhost:8080/",
          "height": 429
        },
        "id": "LTibKQ1hHgRi",
        "outputId": "784866f7-7a31-4ca5-a33d-2b6967d04f69"
      },
      "execution_count": 15,
      "outputs": [
        {
          "output_type": "display_data",
          "data": {
            "text/plain": [
              "<Figure size 720x504 with 1 Axes>"
            ],
            "image/png": "[encoded data removed]"
          },
          "metadata": {
            "needs_background": "light"
          }
        }
      ]
    },
    {
      "cell_type": "markdown",
      "source": [
        "### **Saving** the model"
      ],
      "metadata": {
        "id": "5bOtRlI_Ks0X"
      }
    },
    {
      "cell_type": "code",
      "source": [
        "model_0.state_dict()"
      ],
      "metadata": {
        "colab": {
          "base_uri": "https://localhost:8080/"
        },
        "id": "vdcgVab6JbW0",
        "outputId": "4949314d-290f-4760-8a3f-6136506620bc"
      },
      "execution_count": 16,
      "outputs": [
        {
          "output_type": "execute_result",
          "data": {
            "text/plain": [
              "OrderedDict([('weights', tensor([0.6638])), ('bias', tensor([0.3153]))])"
            ]
          },
          "metadata": {},
          "execution_count": 16
        }
      ]
    },
    {
      "cell_type": "code",
      "source": [
        "torch.save(model_0.state_dict(), \"model_0.pth\")"
      ],
      "metadata": {
        "id": "pfb25HKOK2KQ"
      },
      "execution_count": 17,
      "outputs": []
    },
    {
      "cell_type": "code",
      "source": [
        "model_0.load_state_dict(torch.load(\"model_0.pth\"))\n",
        "model_0.state_dict()"
      ],
      "metadata": {
        "colab": {
          "base_uri": "https://localhost:8080/"
        },
        "id": "uRcwPFkTLTzG",
        "outputId": "50863e71-2bbc-43d0-83fa-f0089e34ecf3"
      },
      "execution_count": 18,
      "outputs": [
        {
          "output_type": "execute_result",
          "data": {
            "text/plain": [
              "OrderedDict([('weights', tensor([0.6638])), ('bias', tensor([0.3153]))])"
            ]
          },
          "metadata": {},
          "execution_count": 18
        }
      ]
    },
    {
      "cell_type": "markdown",
      "source": [
        "## Modelling with **device agnostic code**"
      ],
      "metadata": {
        "id": "y7QHvxveeBn_"
      }
    },
    {
      "cell_type": "code",
      "source": [
        "class LinearRegressionModelV2(nn.Module):\n",
        "  def __init__(self):\n",
        "    super().__init__() # this will call the init from main class `Module`\n",
        "    \n",
        "    # Initiate random wieghts and bias\n",
        "    self.linear_layer = nn.Linear(in_features=1, \n",
        "                                  out_features=1)\n",
        "    \n",
        "  def forward(self, x: torch.Tensor) -> torch.Tensor: # Overwriting main fowrad method\n",
        "    return self.linear_layer(x)"
      ],
      "metadata": {
        "id": "_TFdBNY9fFeb"
      },
      "execution_count": 19,
      "outputs": []
    },
    {
      "cell_type": "code",
      "source": [
        "torch.manual_seed(42)\n",
        "\n",
        "model_1 = LinearRegressionModelV2()\n",
        "model_1, model_1.state_dict()"
      ],
      "metadata": {
        "id": "Fx5bxsOuLtwf",
        "colab": {
          "base_uri": "https://localhost:8080/"
        },
        "outputId": "21edb9a3-f1a0-4fa4-93b4-a1ca908f833e"
      },
      "execution_count": 20,
      "outputs": [
        {
          "output_type": "execute_result",
          "data": {
            "text/plain": [
              "(LinearRegressionModelV2(\n",
              "   (linear_layer): Linear(in_features=1, out_features=1, bias=True)\n",
              " ),\n",
              " OrderedDict([('linear_layer.weight', tensor([[0.7645]])),\n",
              "              ('linear_layer.bias', tensor([0.8300]))]))"
            ]
          },
          "metadata": {},
          "execution_count": 20
        }
      ]
    },
    {
      "cell_type": "code",
      "source": [
        "next(model_1.parameters()).device"
      ],
      "metadata": {
        "colab": {
          "base_uri": "https://localhost:8080/"
        },
        "id": "lS1Estnva4xk",
        "outputId": "2941d63c-15e3-4424-f7c4-597dbe499898"
      },
      "execution_count": 21,
      "outputs": [
        {
          "output_type": "execute_result",
          "data": {
            "text/plain": [
              "device(type='cpu')"
            ]
          },
          "metadata": {},
          "execution_count": 21
        }
      ]
    },
    {
      "cell_type": "code",
      "source": [
        "model_1.to(device)\n",
        "next(model_1.parameters()).device"
      ],
      "metadata": {
        "colab": {
          "base_uri": "https://localhost:8080/"
        },
        "id": "Gi2-LomQbaIs",
        "outputId": "38d2d048-5561-4ccb-9a24-cb452144e19a"
      },
      "execution_count": 22,
      "outputs": [
        {
          "output_type": "execute_result",
          "data": {
            "text/plain": [
              "device(type='cuda', index=0)"
            ]
          },
          "metadata": {},
          "execution_count": 22
        }
      ]
    },
    {
      "cell_type": "code",
      "source": [
        "loss_fn = nn.L1Loss() # mae\n",
        "optimizer = torch.optim.SGD(params=model_1.parameters(),\n",
        "                            lr=0.01)"
      ],
      "metadata": {
        "id": "JlIXyDEObeLP"
      },
      "execution_count": 23,
      "outputs": []
    },
    {
      "cell_type": "code",
      "source": [
        "X_train = X_train.to(device)\n",
        "X_test = X_test.to(device)\n",
        "y_train = y_train.to(device)\n",
        "y_test = y_test.to(device)"
      ],
      "metadata": {
        "id": "FdQUend3cG3L"
      },
      "execution_count": 24,
      "outputs": []
    },
    {
      "cell_type": "code",
      "source": [
        "epochs = 250\n",
        "epoch_count = []\n",
        "loss_count = []\n",
        "train_loss_values = []\n",
        "\n",
        "for epoch in range(epochs):\n",
        "  model_1.train()\n",
        "\n",
        "  y_pred = model_1(X_train) # 1\n",
        "  loss = loss_fn(y_pred, y_train) # 2\n",
        "\n",
        "  optimizer.zero_grad() # 3\n",
        "  loss.backward() # 4\n",
        "  optimizer.step() # 5\n",
        "\n",
        "  # Testing \n",
        "  model_1.eval() \n",
        "  with torch.inference_mode():\n",
        "    test_pred = model_1(X_test)\n",
        "    test_loss = loss_fn(test_pred, y_test)\n",
        "  if epoch%10==0:\n",
        "    epoch_count.append(epoch)\n",
        "    loss_count.append(test_loss.cpu().detach().numpy())\n",
        "    train_loss_values.append(loss.cpu().detach().numpy())\n",
        "    print(f\"Epoch: {epoch} | Loss: {loss} | Test Loss: {test_loss}\")"
      ],
      "metadata": {
        "colab": {
          "base_uri": "https://localhost:8080/"
        },
        "id": "MprANEm-bqR7",
        "outputId": "f2c314cc-3231-4107-c552-ca7acc74e1cb"
      },
      "execution_count": 25,
      "outputs": [
        {
          "output_type": "stream",
          "name": "stdout",
          "text": [
            "Epoch: 0 | Loss: 0.5551779866218567 | Test Loss: 0.5739762187004089\n",
            "Epoch: 10 | Loss: 0.439968079328537 | Test Loss: 0.4392664134502411\n",
            "Epoch: 20 | Loss: 0.3247582018375397 | Test Loss: 0.30455657839775085\n",
            "Epoch: 30 | Loss: 0.20954833924770355 | Test Loss: 0.16984669864177704\n",
            "Epoch: 40 | Loss: 0.09433845430612564 | Test Loss: 0.03513690456748009\n",
            "Epoch: 50 | Loss: 0.023886388167738914 | Test Loss: 0.04784907028079033\n",
            "Epoch: 60 | Loss: 0.019956795498728752 | Test Loss: 0.045803118497133255\n",
            "Epoch: 70 | Loss: 0.016517987474799156 | Test Loss: 0.037530567497015\n",
            "Epoch: 80 | Loss: 0.013089174404740334 | Test Loss: 0.02994490973651409\n",
            "Epoch: 90 | Loss: 0.009653178043663502 | Test Loss: 0.02167237363755703\n",
            "Epoch: 100 | Loss: 0.006215683650225401 | Test Loss: 0.014086711220443249\n",
            "Epoch: 110 | Loss: 0.00278724217787385 | Test Loss: 0.005814164876937866\n",
            "Epoch: 120 | Loss: 0.0012645035749301314 | Test Loss: 0.013801801018416882\n",
            "Epoch: 130 | Loss: 0.0012645035749301314 | Test Loss: 0.013801801018416882\n",
            "Epoch: 140 | Loss: 0.0012645035749301314 | Test Loss: 0.013801801018416882\n",
            "Epoch: 150 | Loss: 0.0012645035749301314 | Test Loss: 0.013801801018416882\n",
            "Epoch: 160 | Loss: 0.0012645035749301314 | Test Loss: 0.013801801018416882\n",
            "Epoch: 170 | Loss: 0.0012645035749301314 | Test Loss: 0.013801801018416882\n",
            "Epoch: 180 | Loss: 0.0012645035749301314 | Test Loss: 0.013801801018416882\n",
            "Epoch: 190 | Loss: 0.0012645035749301314 | Test Loss: 0.013801801018416882\n",
            "Epoch: 200 | Loss: 0.0012645035749301314 | Test Loss: 0.013801801018416882\n",
            "Epoch: 210 | Loss: 0.0012645035749301314 | Test Loss: 0.013801801018416882\n",
            "Epoch: 220 | Loss: 0.0012645035749301314 | Test Loss: 0.013801801018416882\n",
            "Epoch: 230 | Loss: 0.0012645035749301314 | Test Loss: 0.013801801018416882\n",
            "Epoch: 240 | Loss: 0.0012645035749301314 | Test Loss: 0.013801801018416882\n"
          ]
        }
      ]
    },
    {
      "cell_type": "code",
      "source": [
        "with torch.inference_mode():\n",
        "  y_pred = model_1(X_test)\n",
        "\n",
        "plt.figure(figsize=(10, 7))\n",
        "plt.scatter(X_train.cpu(), y_train.cpu(), s=4, label='true')\n",
        "plt.scatter(X_test.cpu(), y_test.cpu(), s=20, label='true')\n",
        "plt.scatter(X_test.cpu(), y_pred.cpu(), s=4, label='predicted')\n",
        "plt.legend();"
      ],
      "metadata": {
        "colab": {
          "base_uri": "https://localhost:8080/",
          "height": 428
        },
        "id": "PdTrFp71cE96",
        "outputId": "ba339895-a1d0-436e-e1de-51d31564a96e"
      },
      "execution_count": 26,
      "outputs": [
        {
          "output_type": "display_data",
          "data": {
            "text/plain": [
              "<Figure size 720x504 with 1 Axes>"
            ],
            "image/png": "[encoded data removed]"
          },
          "metadata": {
            "needs_background": "light"
          }
        }
      ]
    },
    {
      "cell_type": "code",
      "source": [],
      "metadata": {
        "id": "XMKFnoDEci4C"
      },
      "execution_count": 26,
      "outputs": []
    }
  ]
}