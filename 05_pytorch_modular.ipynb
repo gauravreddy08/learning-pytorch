{
  "nbformat": 4,
  "nbformat_minor": 0,
  "metadata": {
    "colab": {
      "provenance": [],
      "authorship_tag": "ABX9TyM08FBKwf63QQYfiO4Pk6r5",
      "include_colab_link": true
    },
    "kernelspec": {
      "name": "python3",
      "display_name": "Python 3"
    },
    "language_info": {
      "name": "python"
    },
    "accelerator": "GPU",
    "gpuClass": "standard"
  },
  "cells": [
    {
      "cell_type": "markdown",
      "metadata": {
        "id": "view-in-github",
        "colab_type": "text"
      },
      "source": [
        "<a href=\"https://colab.research.google.com/github/gauravreddy08/learning-pytorch/blob/main/05_pytorch_modular.ipynb\" target=\"_parent\"><img src=\"https://colab.research.google.com/assets/colab-badge.svg\" alt=\"Open In Colab\"/></a>"
      ]
    },
    {
      "cell_type": "markdown",
      "source": [
        "# 05 | Going **Modular** with PyTorch\n",
        "https://www.learnpytorch.io/05_pytorch_going_modular/"
      ],
      "metadata": {
        "id": "24aE9D5IBT2t"
      }
    },
    {
      "cell_type": "code",
      "source": [
        "import numpy as np\n",
        "import pandas as pd\n",
        "import matplotlib.pyplot as plt\n",
        "\n",
        "import torch\n",
        "from torch import nn"
      ],
      "metadata": {
        "id": "6JRP7NcFBiDK"
      },
      "execution_count": 1,
      "outputs": []
    },
    {
      "cell_type": "code",
      "source": [
        "import os \n",
        "\n",
        "os.mkdir(\"going_modular\")"
      ],
      "metadata": {
        "id": "GySAo7a1COtT"
      },
      "execution_count": 2,
      "outputs": []
    },
    {
      "cell_type": "code",
      "source": [
        "%%writefile going_modular/data_setup.py\n",
        "\"\"\"\n",
        "Contains functionality for creating PyTorch DataLoaders for \n",
        "image classification data.\n",
        "\"\"\"\n",
        "import torch\n",
        "import os\n",
        "from torch.utils.data import DataLoader\n",
        "from torchvision import datasets, transforms\n",
        "\n",
        "NUM_WORKERS = os.cpu_count()\n",
        "\n",
        "def create_dataset(\n",
        "            train_dir: str, test_dir: str,\n",
        "            transform: transforms.Compose, \n",
        "            batch_size: int = 32,\n",
        "            num_workers: int = NUM_WORKERS\n",
        "          ):\n",
        "  \"\"\"\n",
        "  Creates torch dataloaders from the given train and test directories\n",
        "  for image classification tasks.\n",
        "\n",
        "  Args: \n",
        "    train_dir: Path of training directory.\n",
        "    test_dir: Path of testing directory.\n",
        "    transform: torchvision transforms to perform on training and testing data.\n",
        "    batch_size: Number of samples per batch (default=32).\n",
        "    num_works: An integer for number of workers per DataLoader.\n",
        "  Returns:\n",
        "    A tuple of (train_dataloader, test_dataloader, class_names).\n",
        "  \"\"\"\n",
        "  train_data = datasets.ImageFolder(train_dir, transform=transform)\n",
        "  test_data = datasets.ImageFolder(test_dir, transform=transform)\n",
        "\n",
        "  class_names = train_data.classes\n",
        "\n",
        "  train_dataloader = torch.utils.data.DataLoader(\n",
        "      train_data, batch_size=batch_size,\n",
        "      shuffle=True, num_workers=num_workers,\n",
        "      pin_memory=True\n",
        "  )\n",
        "  test_dataloader = torch.utils.data.DataLoader(\n",
        "      test_data, batch_size=batch_size,\n",
        "      shuffle=False, num_workers=num_workers,\n",
        "      pin_memory=True\n",
        "  )\n",
        "\n",
        "  return train_dataloader, test_dataloader, class_names"
      ],
      "metadata": {
        "colab": {
          "base_uri": "https://localhost:8080/"
        },
        "id": "Yd0and8FWiW3",
        "outputId": "12f0a740-5729-4759-fb66-a6238cd6752d"
      },
      "execution_count": 3,
      "outputs": [
        {
          "output_type": "stream",
          "name": "stdout",
          "text": [
            "Writing going_modular/data_setup.py\n"
          ]
        }
      ]
    },
    {
      "cell_type": "code",
      "source": [
        "%%writefile going_modular/models.py\n",
        "\"\"\"\n",
        "Contains PyTorch model code to instantiate a TinyVGG model.\n",
        "\"\"\"\n",
        "\n",
        "import torch\n",
        "from torch import nn\n",
        "\n",
        "class TinyVGG(nn.Module):\n",
        "  \"\"\"\n",
        "  Creates TinyVGG architecture.\n",
        "\n",
        "  Args:\n",
        "    input_shape: Number of input channels.\n",
        "    hidden_units: Number of hidden units (neurons) between the layers.\n",
        "    output_shape: Number of output units (number of classes).\n",
        "  \"\"\"\n",
        "  def __init__(self, input_shape: int,\n",
        "             hidden_units: int,\n",
        "             output_shape: int):\n",
        "    super().__init__()\n",
        "\n",
        "    self.conv_block_1 = nn.Sequential(\n",
        "        nn.Conv2d(in_channels=input_shape,\n",
        "                  out_channels=hidden_units,\n",
        "                  kernel_size=3, padding=0, stride=1),\n",
        "        nn.ReLU(),\n",
        "        nn.Conv2d(in_channels=hidden_units,\n",
        "                  out_channels=hidden_units,\n",
        "                  kernel_size=3, padding=0, stride=1),\n",
        "        nn.ReLU(),\n",
        "        nn.MaxPool2d(kernel_size=2, stride=2)\n",
        "    )\n",
        "    self.conv_block_2 = nn.Sequential(\n",
        "        nn.Conv2d(hidden_units, hidden_units, 3, 1, 0),\n",
        "        nn.ReLU(),\n",
        "        nn.Conv2d(hidden_units, hidden_units, 3, 1, 0),\n",
        "        nn.ReLU(),\n",
        "        nn.MaxPool2d(2)\n",
        "    )\n",
        "    self.classifier = nn.Sequential(\n",
        "        nn.Flatten(),\n",
        "        nn.Linear(in_features=hidden_units*13*13,\n",
        "                  out_features=output_shape)\n",
        "    )\n",
        "\n",
        "  def forward(self, x: torch.Tensor):\n",
        "    return self.classifier(self.conv_block_2(self.conv_block_1(x)))"
      ],
      "metadata": {
        "colab": {
          "base_uri": "https://localhost:8080/"
        },
        "id": "_Z6qTMUaco5v",
        "outputId": "9d068eac-94d4-4111-ec24-7c5a2105f8ea"
      },
      "execution_count": 13,
      "outputs": [
        {
          "output_type": "stream",
          "name": "stdout",
          "text": [
            "Overwriting going_modular/models.py\n"
          ]
        }
      ]
    },
    {
      "cell_type": "code",
      "source": [
        "from going_modular.models import TinyVGG \n",
        "\n",
        "model = TinyVGG(2, 10, 5)\n",
        "model"
      ],
      "metadata": {
        "colab": {
          "base_uri": "https://localhost:8080/"
        },
        "id": "QQ6h3Q2Idy3F",
        "outputId": "65849c1e-ee7b-4999-bb75-169f2d8a9d1b"
      },
      "execution_count": 14,
      "outputs": [
        {
          "output_type": "execute_result",
          "data": {
            "text/plain": [
              "TinyVGG(\n",
              "  (conv_block_1): Sequential(\n",
              "    (0): Conv2d(2, 10, kernel_size=(3, 3), stride=(1, 1))\n",
              "    (1): ReLU()\n",
              "    (2): Conv2d(10, 10, kernel_size=(3, 3), stride=(1, 1))\n",
              "    (3): ReLU()\n",
              "    (4): MaxPool2d(kernel_size=2, stride=2, padding=0, dilation=1, ceil_mode=False)\n",
              "  )\n",
              "  (conv_block_2): Sequential(\n",
              "    (0): Conv2d(10, 10, kernel_size=(3, 3), stride=(1, 1))\n",
              "    (1): ReLU()\n",
              "    (2): Conv2d(10, 10, kernel_size=(3, 3), stride=(1, 1))\n",
              "    (3): ReLU()\n",
              "    (4): MaxPool2d(kernel_size=2, stride=2, padding=0, dilation=1, ceil_mode=False)\n",
              "  )\n",
              "  (classifier): Sequential(\n",
              "    (0): Flatten(start_dim=1, end_dim=-1)\n",
              "    (1): Linear(in_features=1690, out_features=5, bias=True)\n",
              "  )\n",
              ")"
            ]
          },
          "metadata": {},
          "execution_count": 14
        }
      ]
    },
    {
      "cell_type": "code",
      "source": [
        "%%writefile going_modular/engine.py\n",
        "import torch \n",
        "from torch import nn\n",
        "from typing import Dict, List, Tuple\n",
        "from sklearn.metrics import accuracy_score\n",
        "\n",
        "def train_step(model: nn.Module,\n",
        "               dataloader: torch.utils.data.DataLoader,\n",
        "               loss_fn: nn.Module, optimizer: torch.optim.Optimizer,\n",
        "               device: torch.device='cuda' if torch.cuda.is_available() else 'cpu'):\n",
        "  \"\"\"\n",
        "  Training Torch model and updates weights per batch.\n",
        "  \n",
        "  Args:\n",
        "    model: A PyTorch model to be trained.\n",
        "    dataloader: A DataLoader instance for the model to be trained on.\n",
        "    loss_fn: A PyTorch loss function to minimize.\n",
        "    optimizer: A PyTorch optimizer to help minimize the loss function.\n",
        "    device: A target device to compute on (e.g. \"cuda\" or \"cpu\").\n",
        "\n",
        "  Returns:\n",
        "    Tuple(train_loss, train_accuracy)\n",
        "  \"\"\"\n",
        "\n",
        "  train_loss = 0\n",
        "  train_acc = 0\n",
        "  \n",
        "  model.train()\n",
        "  for batch, (X, y) in enumerate(dataloader):\n",
        "    X, y = X.to(device), y.to(device)\n",
        "    preds = model(X)\n",
        "    loss = loss_fn(preds, y)\n",
        "    \n",
        "    train_loss+=loss\n",
        "    train_acc += accuracy_score(y.cpu(), torch.argmax(torch.softmax(preds, dim=1), dim=1).cpu())\n",
        "\n",
        "    optimizer.zero_grad()\n",
        "    loss.backward()\n",
        "    optimizer.step()\n",
        "  return train_loss/len(dataloader), train_acc/len(dataloader)\n",
        "\n",
        "def test_step(model: nn.Module,\n",
        "              dataloader: torch.utils.data.DataLoader,\n",
        "              loss_fn: nn.Module,\n",
        "              device: torch.device='cuda' if torch.cuda.is_available() else 'cpu'):\n",
        "  \"\"\"\n",
        "  Runs Torch model in evaluation model.\n",
        "  \n",
        "  Args:\n",
        "    model: A PyTorch model to be trained.\n",
        "    dataloader: A DataLoader instance for the model to be trained on.\n",
        "    loss_fn: A PyTorch loss function to minimize.\n",
        "    device: A target device to compute on (e.g. \"cuda\" or \"cpu\").\n",
        "\n",
        "  Returns:\n",
        "    Tuple(test_loss, test_accuracy)\n",
        "  \"\"\"\n",
        "  test_loss = 0\n",
        "  test_acc = 0\n",
        "\n",
        "  from sklearn.metrics import accuracy_score\n",
        "  \n",
        "  model.eval()\n",
        "  with torch.inference_mode():\n",
        "    for batch, (X, y) in enumerate(dataloader):\n",
        "      X, y = X.to(device), y.to(device)\n",
        "      preds = model(X)\n",
        "      test_loss += loss_fn(preds, y)\n",
        "      test_acc += accuracy_score(y.cpu(), torch.argmax(torch.softmax(preds, dim=1), dim=1).cpu())\n",
        "    return test_loss/len(dataloader), test_acc/len(dataloader)\n",
        "\n",
        "def train(model: nn.Module, epochs: int,\n",
        "          train_data: torch.utils.data.DataLoader,\n",
        "          loss: nn.Module, optimizer: torch.optim.Optimizer,\n",
        "          test_data: torch.utils.data.DataLoader, \n",
        "          device: torch.device='cuda' if torch.cuda.is_available() else 'cpu'):\n",
        "  \n",
        "  \"\"\"\n",
        "  Trains and tests a PyTorch model.\n",
        "\n",
        "  Args:\n",
        "    model: A PyTorch model to be trained and tested.\n",
        "    train_dataloader: A DataLoader instance for the model to be trained on.\n",
        "    test_dataloader: A DataLoader instance for the model to be tested on.\n",
        "    optimizer: A PyTorch optimizer to help minimize the loss function.\n",
        "    loss_fn: A PyTorch loss function to calculate loss on both datasets.\n",
        "    epochs: An integer indicating how many epochs to train for.\n",
        "    device: A target device to compute on (e.g. \"cuda\" or \"cpu\").\n",
        "\n",
        "  Returns:\n",
        "    A dictionary of training and testing loss as well as training and\n",
        "    testing accuracy metrics. Each metric has a value in a list for \n",
        "    each epoch.\n",
        "    In the form: {epochs: []),\n",
        "                  train_loss: [...],\n",
        "                  train_acc: [...],\n",
        "                  test_loss: [...],\n",
        "                  test_acc: [...]}\n",
        "    In the form: {train_loss: [...],\n",
        "                  train_acc: [...],\n",
        "                  test_loss: [...],\n",
        "                  test_acc: [...]} \n",
        "  \"\"\"\n",
        "  results = {'epochs': list(range(epochs)),\n",
        "             'train_loss': [],\n",
        "             'train_acc': [],\n",
        "             'test_loss': [],\n",
        "             'test_acc': []}\n",
        "\n",
        "  for epoch in range(epochs):\n",
        "    print(f\"EPOCH [{epoch}]\")\n",
        "    train_loss, train_acc = train_step(model, train_data,\n",
        "                                       loss, optimizer)\n",
        "    \n",
        "    test_loss, test_acc = test_step(model, test_data, loss)\n",
        "\n",
        "    print(f\"Train Loss: {train_loss:.4f}, Train Acc: {train_acc:.2f}% | Test Loss: {test_loss:.4f}, Test Acc: {test_acc:.2f}% \\n------------\")\n",
        "    results[\"train_loss\"].append(train_loss)\n",
        "    results[\"train_acc\"].append(train_acc)\n",
        "    results[\"test_loss\"].append(test_loss)\n",
        "    results[\"test_acc\"].append(test_acc)\n",
        "\n",
        "  return results\n"
      ],
      "metadata": {
        "colab": {
          "base_uri": "https://localhost:8080/"
        },
        "id": "lqXpvUFtb09J",
        "outputId": "3361af26-3d6e-4081-ae84-e36775875cf5"
      },
      "execution_count": 17,
      "outputs": [
        {
          "output_type": "stream",
          "name": "stdout",
          "text": [
            "Writing going_modular/engine.py\n"
          ]
        }
      ]
    },
    {
      "cell_type": "code",
      "source": [
        "%%writefile going_modular/train.py\n",
        "print(f\"[INFO] Installing Dependencies...\")\n",
        "import argparse\n",
        "import pip\n",
        "parser = argparse.ArgumentParser()\n",
        "\n",
        "parser.add_argument(\"--train\", type=str)\n",
        "parser.add_argument(\"--test\", type=str)\n",
        "parser.add_argument(\"--epochs\", type=int, default=5)\n",
        "parser.add_argument(\"--batch\", type=int, default=32)\n",
        "parser.add_argument(\"--hidden\", type=int, default=10)\n",
        "parser.add_argument(\"--lr\", type=float, default=0.1)\n",
        "\n",
        "args = parser.parse_args()\n",
        "\n",
        "import os\n",
        "import torch \n",
        "from torch import nn\n",
        "from torchvision import transforms\n",
        "\n",
        "from datetime import datetime\n",
        "\n",
        "try: \n",
        "  import torchinfo\n",
        "except:\n",
        "  pip.main(['install', 'torchinfo'])       \n",
        "  import torchinfo\n",
        "\n",
        "import data_setup, engine, models\n",
        "from torchinfo import summary\n",
        "\n",
        "EPOCHS = args.epochs\n",
        "BATCH_SIZE = args.batch\n",
        "HIDDEN_UNITS = args.hidden\n",
        "LEARNING_RATE = args.lr\n",
        "LINE_BR = \"-\"*90\n",
        "\n",
        "DEVICE = 'cuda' if torch.cuda.is_available() else 'cpu'\n",
        "print('\\n')\n",
        "print(LINE_BR)\n",
        "print(f\"[Hyperparameters]: \")\n",
        "print(f\"Epochs: {EPOCHS}\")\n",
        "print(f\"Batch Size: {BATCH_SIZE}\")\n",
        "print(f\"Hidden Units: {HIDDEN_UNITS}\")\n",
        "print(f\"Learning Rate: {LEARNING_RATE}\")\n",
        "print(f\"CUDA Available = {torch.cuda.is_available()} | Device: {DEVICE}\")\n",
        "print(LINE_BR)\n",
        "\n",
        "train_dir = args.train\n",
        "test_dir = args.test\n",
        "\n",
        "print(f\"[INFO] Training Directory: {train_dir}\")\n",
        "print(f\"[INFO] Testing Directory: {test_dir}\")\n",
        "print(LINE_BR)\n",
        "\n",
        "data_transform = transforms.Compose([\n",
        "    transforms.Resize((64, 64)),\n",
        "    transforms.ToTensor()\n",
        "])\n",
        "\n",
        "train_dataloader, test_dataloader, class_names = data_setup.create_dataset(\n",
        "    train_dir=train_dir,\n",
        "    test_dir=test_dir,\n",
        "    transform=data_transform,\n",
        "    batch_size=BATCH_SIZE\n",
        ")\n",
        "\n",
        "print(f\"[INFO] Model Initialised...\")\n",
        "\n",
        "model = models.TinyVGG(\n",
        "    input_shape=3,\n",
        "    hidden_units=HIDDEN_UNITS,\n",
        "    output_shape=len(class_names)\n",
        ").to(DEVICE)\n",
        "\n",
        "summary(model, input_size=[1, 3, 64, 64])\n",
        "\n",
        "# Set loss and optimizer\n",
        "loss_fn = torch.nn.CrossEntropyLoss()\n",
        "optimizer = torch.optim.Adam(model.parameters(),\n",
        "                             lr=LEARNING_RATE)\n",
        "print(LINE_BR)\n",
        "print(f\"[INFO] Training...\")\n",
        "# Start training with help from engine.py\n",
        "engine.train(model=model,\n",
        "             train_data=train_dataloader,\n",
        "             test_data=test_dataloader,\n",
        "             loss=loss_fn,\n",
        "             optimizer=optimizer,\n",
        "             epochs=EPOCHS,\n",
        "             device=DEVICE)\n",
        "\n",
        "name = \"model_\" + datetime.now().strftime(\"%d%M%y_%H%M%S\")+ '.pth'\n",
        "torch.save(obj=model.state_dict(), f=name)\n",
        "print(f\"[INFO] Saved model as {name}\")\n",
        "print(LINE_BR)"
      ],
      "metadata": {
        "colab": {
          "base_uri": "https://localhost:8080/"
        },
        "id": "-61t47_LiFxU",
        "outputId": "aecd7ef0-7bdd-4ac0-fcfc-0b6016beab0b"
      },
      "execution_count": 49,
      "outputs": [
        {
          "output_type": "stream",
          "name": "stdout",
          "text": [
            "Overwriting going_modular/train.py\n"
          ]
        }
      ]
    },
    {
      "cell_type": "markdown",
      "source": [
        "---\n",
        "---\n",
        "## Training the model with only a `single` line\n",
        "\n",
        "### Downloading the **data**"
      ],
      "metadata": {
        "id": "cjKtP9BZz-EI"
      }
    },
    {
      "cell_type": "code",
      "source": [
        "import os\n",
        "import requests\n",
        "import zipfile\n",
        "from pathlib import Path\n",
        "\n",
        "# Setup path to data folder\n",
        "data_path = Path(\"data/\")\n",
        "image_path = data_path / \"pizza_steak_sushi\"\n",
        "\n",
        "# If the image folder doesn't exist, download it and prepare it... \n",
        "if image_path.is_dir():\n",
        "    print(f\"{image_path} directory exists.\")\n",
        "else:\n",
        "    print(f\"Did not find {image_path} directory, creating one...\")\n",
        "    image_path.mkdir(parents=True, exist_ok=True)\n",
        "\n",
        "# Download pizza, steak, sushi data\n",
        "with open(data_path / \"pizza_steak_sushi.zip\", \"wb\") as f:\n",
        "    request = requests.get(\"https://github.com/mrdbourke/pytorch-deep-learning/raw/main/data/pizza_steak_sushi.zip\")\n",
        "    print(\"Downloading pizza, steak, sushi data...\")\n",
        "    f.write(request.content)\n",
        "\n",
        "# Unzip pizza, steak, sushi data\n",
        "with zipfile.ZipFile(data_path / \"pizza_steak_sushi.zip\", \"r\") as zip_ref:\n",
        "    print(\"Unzipping pizza, steak, sushi data...\") \n",
        "    zip_ref.extractall(image_path)\n",
        "\n",
        "# Remove zip file\n",
        "os.remove(data_path / \"pizza_steak_sushi.zip\")"
      ],
      "metadata": {
        "id": "RWGXCOSyz8bl"
      },
      "execution_count": null,
      "outputs": []
    },
    {
      "cell_type": "markdown",
      "source": [
        "#### Here we go..."
      ],
      "metadata": {
        "id": "lexcj5T20RoZ"
      }
    },
    {
      "cell_type": "code",
      "source": [
        "!python going_modular/train.py --train '/content/data/pizza_steak_sushi/train' --test '/content/data/pizza_steak_sushi/test' \\\n",
        "                               --epochs 5 --batch 32 --hidden 10 --lr 0.1"
      ],
      "metadata": {
        "colab": {
          "base_uri": "https://localhost:8080/"
        },
        "id": "XU2fekJzrfJy",
        "outputId": "bab2a652-01be-4757-b473-1e9999847a76"
      },
      "execution_count": 50,
      "outputs": [
        {
          "output_type": "stream",
          "name": "stdout",
          "text": [
            "[INFO] Installing Dependencies...\n",
            "\n",
            "\n",
            "------------------------------------------------------------------------------------------\n",
            "[Hyperparameters]: \n",
            "Epochs: 5\n",
            "Batch Size: 32\n",
            "Hidden Units: 10\n",
            "Learning Rate: 0.1\n",
            "CUDA Available = True | Device: cuda\n",
            "------------------------------------------------------------------------------------------\n",
            "[INFO] Training Directory: /content/data/pizza_steak_sushi/train\n",
            "[INFO] Testing Directory: /content/data/pizza_steak_sushi/test\n",
            "------------------------------------------------------------------------------------------\n",
            "[INFO] Model Initialised...\n",
            "------------------------------------------------------------------------------------------\n",
            "==========================================================================================\n",
            "Layer (type:depth-idx)                   Output Shape              Param #\n",
            "==========================================================================================\n",
            "TinyVGG                                  [1, 3]                    --\n",
            "├─Sequential: 1-1                        [1, 10, 30, 30]           --\n",
            "│    └─Conv2d: 2-1                       [1, 10, 62, 62]           280\n",
            "│    └─ReLU: 2-2                         [1, 10, 62, 62]           --\n",
            "│    └─Conv2d: 2-3                       [1, 10, 60, 60]           910\n",
            "│    └─ReLU: 2-4                         [1, 10, 60, 60]           --\n",
            "│    └─MaxPool2d: 2-5                    [1, 10, 30, 30]           --\n",
            "├─Sequential: 1-2                        [1, 10, 13, 13]           --\n",
            "│    └─Conv2d: 2-6                       [1, 10, 28, 28]           910\n",
            "│    └─ReLU: 2-7                         [1, 10, 28, 28]           --\n",
            "│    └─Conv2d: 2-8                       [1, 10, 26, 26]           910\n",
            "│    └─ReLU: 2-9                         [1, 10, 26, 26]           --\n",
            "│    └─MaxPool2d: 2-10                   [1, 10, 13, 13]           --\n",
            "├─Sequential: 1-3                        [1, 3]                    --\n",
            "│    └─Flatten: 2-11                     [1, 1690]                 --\n",
            "│    └─Linear: 2-12                      [1, 3]                    5,073\n",
            "==========================================================================================\n",
            "Total params: 8,083\n",
            "Trainable params: 8,083\n",
            "Non-trainable params: 0\n",
            "Total mult-adds (M): 5.69\n",
            "==========================================================================================\n",
            "Input size (MB): 0.05\n",
            "Forward/backward pass size (MB): 0.71\n",
            "Params size (MB): 0.03\n",
            "Estimated Total Size (MB): 0.79\n",
            "==========================================================================================\n",
            "------------------------------------------------------------------------------------------\n",
            "[INFO] Training...\n",
            "------------------------------------------------------------------------------------------\n",
            "EPOCH[0]\n",
            "Train Loss: 17.5649, Train Acc: 0.45% | Test Loss: 1.1550, Test Acc: 0.20% \n",
            "------------\n",
            "EPOCH[1]\n",
            "Train Loss: 1.0874, Train Acc: 0.41% | Test Loss: 1.1754, Test Acc: 0.20% \n",
            "------------\n",
            "EPOCH[2]\n",
            "Train Loss: 1.0860, Train Acc: 0.41% | Test Loss: 1.1803, Test Acc: 0.20% \n",
            "------------\n",
            "EPOCH[3]\n",
            "Train Loss: 1.1358, Train Acc: 0.29% | Test Loss: 1.1575, Test Acc: 0.20% \n",
            "------------\n",
            "EPOCH[4]\n",
            "Train Loss: 1.1187, Train Acc: 0.27% | Test Loss: 1.0734, Test Acc: 0.54% \n",
            "------------\n",
            "------------------------------------------------------------------------------------------\n",
            "[INFO] Saved model as model_084023_064004.pth\n"
          ]
        }
      ]
    }
  ]
}